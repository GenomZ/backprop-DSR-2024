{
 "cells": [
  {
   "cell_type": "markdown",
   "metadata": {},
   "source": [
    "# DSR - Practical 4 - Neural networks\n",
    "\n",
    "\n",
    "### Here we are going to implement a Multi-layered Neural Network.\n",
    "We will use an extreme case of stochastic gradient descent (SGD) where the batch size is 1, meaning that we update the weights of the network after showing it just one sample data point of the training set. "
   ]
  },
  {
   "cell_type": "code",
   "execution_count": 5,
   "metadata": {},
   "outputs": [],
   "source": [
    "import numpy as np\n",
    "import matplotlib.pyplot as plt"
   ]
  },
  {
   "cell_type": "markdown",
   "metadata": {},
   "source": [
    "### Multi-layer perceptron class:\n",
    "\n",
    "loss function:\n",
    "$$ loss = \\frac{1}{N}\\sum(pred-true)^{2}$$\n"
   ]
  },
  {
   "cell_type": "code",
   "execution_count": 30,
   "metadata": {},
   "outputs": [
    {
     "ename": "SyntaxError",
     "evalue": "invalid syntax (<ipython-input-30-94a1c09eab89>, line 30)",
     "output_type": "error",
     "traceback": [
      "\u001b[0;36m  File \u001b[0;32m\"<ipython-input-30-94a1c09eab89>\"\u001b[0;36m, line \u001b[0;32m30\u001b[0m\n\u001b[0;31m    sigmoid = # ENTER YOUR CODE HERE\u001b[0m\n\u001b[0m              ^\u001b[0m\n\u001b[0;31mSyntaxError\u001b[0m\u001b[0;31m:\u001b[0m invalid syntax\n"
     ]
    }
   ],
   "source": [
    "class NeuralNetwork:\n",
    "    def __init__(self, layers, alpha=0.1):\n",
    "    # initialize the list of weights matrices, then store the\n",
    "    # network architecture and learning rate\n",
    "        self.W = []\n",
    "        self.layers = layers\n",
    "        self.alpha = alpha\n",
    "        # start looping from the index of the first layer but\n",
    "        # stop before we reach the last two layers\n",
    "        for i in np.arange(0, len(layers) - 2):\n",
    "            # randomly initialize a weight matrix connecting the\n",
    "            # number of nodes in each respective layer together,\n",
    "            # adding an extra node for the bias\n",
    "            w = np.random.randn(layers[i] + 1, layers[i + 1] + 1)\n",
    "            self.W.append(w / np.sqrt(layers[i]))\n",
    "        # in this example we let the last two layers   \n",
    "        # connections have no bias\n",
    "        w = np.random.randn(layers[-2] + 1, layers[-1])\n",
    "        self.W.append(w / np.sqrt(layers[-2]))\n",
    "    \n",
    "    def __repr__(self):\n",
    "        # construct and return a string that represents the network\n",
    "        # architecture\n",
    "        return \"NN architecture: {}\".format(\n",
    "        \"-\".join(str(l) for l in self.layers))\n",
    "    \n",
    "    def sigmoid(self, x):\n",
    "        # compute and return the sigmoid activation value for a\n",
    "        # given input value\n",
    "        sigmoid = # ENTER YOUR CODE HERE\n",
    "        return sigmoid\n",
    "    def sigmoid_deriv(self, s):\n",
    "        # compute the derivative of the sigmoid function ASSUMING\n",
    "        # that `s` has already been passed through the `sigmoid`\n",
    "        # function\n",
    "        # ENTER YOUR CODE HERE\n",
    "        d_sigmoid =\n",
    "        return d_sigmoid\n",
    "    \n",
    "    def fit(self, X, y, epochs=1000, displayUpdate=100):\n",
    "        # insert a column of 1's as the last entry in the feature\n",
    "        # matrix -- this little trick allows us to treat the bias\n",
    "        # as a trainable parameter within the weight matrix\n",
    "        \n",
    "        X = np.c_[X, np.ones((X.shape[0]))]\n",
    "        losses = []\n",
    "        # loop over the desired number of epochs\n",
    "        for epoch in np.arange(0, epochs):\n",
    "            # loop over each individual data point and train\n",
    "            # our network on it\n",
    "            for (x, target) in zip(X, y):\n",
    "                self.fit_partial(x, target)\n",
    "                # check to see if we should display a training update\n",
    "            if epoch == 0 or (epoch + 1) % displayUpdate == 0:\n",
    "                loss = self.calculate_loss(X, y)\n",
    "                print(\"[Training: ] epoch=\", epoch+1, \", loss=\",loss)\n",
    "                losses.append(loss)  \n",
    "        return losses\n",
    "                    \n",
    "    def fit_partial(self, x, y):\n",
    "        # construct our list of output activations for each layer\n",
    "        # as our data point flows through the network; the first\n",
    "        # activation is a special case -- it's just the input\n",
    "        # feature vector itself\n",
    "        A = [np.atleast_2d(x)]\n",
    "        # FEEDFORWARD:\n",
    "        # loop over the layers in the network\n",
    "        for layer in np.arange(0, len(self.W)):\n",
    "            # feedforward the activation at the current layer by\n",
    "            # taking the dot product between the activation and\n",
    "            # the weight matrix -- this is called the \"net input\"\n",
    "            # to the current layer\n",
    "            net = A[layer].dot(self.W[layer])\n",
    "            # computing the \"net output\" is simply applying our\n",
    "            # nonlinear activation function to the net input\n",
    "            out = # ENTER YOUR CODE HERE\n",
    "            # once we have the net output, add it to our list of\n",
    "            # activations\n",
    "            A.append(out)\n",
    "\n",
    "        # BACKPROPAGATION\n",
    "        # the first phase of backpropagation is to compute the\n",
    "        # difference between our *prediction* (the final output\n",
    "        # activation in the activations list) and the true target\n",
    "        # value\n",
    "        dloss = A[-1] - y\n",
    "\n",
    "        # from here, we need to apply the chain rule and build our\n",
    "        # list of deltas `D`; the first entry in the deltas is\n",
    "        # simply the error of the output layer times the derivative\n",
    "        # of our activation function for the output value\n",
    "        D = [dloss * self.sigmoid_deriv(A[-1])]\n",
    "        # once you understand the chain rule it becomes super easy\n",
    "        # to implement with a `for` loop -- simply loop over the\n",
    "        # layers in reverse order (ignoring the last two since we\n",
    "        # already have taken them into account)\n",
    "        for layer in np.arange(len(A) - 2, 0, -1):\n",
    "            # the delta for the current layer is equal to the delta\n",
    "            # of the *previous layer* dotted with the weight matrix\n",
    "            # of the current layer, followed by multiplying the delta\n",
    "            # by the derivative of the nonlinear activation function\n",
    "            # for the activations of the current layer\n",
    "            delta = D[-1].dot(self.W[layer].T)\n",
    "            delta = delta * self.sigmoid_deriv(A[layer])\n",
    "            D.append(delta)\n",
    "        # since we looped over our layers in reverse order we need to\n",
    "        # reverse the deltas\n",
    "        D = D[::-1]\n",
    "        # WEIGHT UPDATE PHASE\n",
    "        # loop over the layers\n",
    "        for layer in np.arange(0, len(self.W)):\n",
    "        # update our weights by taking the dot product of the layer\n",
    "        # activations with their respective deltas, then multiplying\n",
    "        # this value by some small learning rate and adding to our\n",
    "        # weight matrix -- this is where the actual \"learning\" takes\n",
    "        # place\n",
    "            self.W[layer] += -self.alpha * A[layer].T.dot(D[layer])\n",
    "            \n",
    "    def predict(self, X,addBias=False):\n",
    "        # initialize the output prediction as the input features -- this\n",
    "        # value will be (forward) propagated through the network to\n",
    "        # obtain the final prediction\n",
    "        p = np.atleast_2d(X)\n",
    "        # insert a column of 1's as the last entry in the feature\n",
    "        # matrix (bias)\n",
    "        if addBias:\n",
    "            p = np.c_[p, np.ones((p.shape[0]))]\n",
    "        # loop over our layers in the network\n",
    "        for layer in np.arange(0, len(self.W)):\n",
    "            # computing the output prediction is simply\n",
    "            # the forward pass\n",
    "            \n",
    "            p = self.sigmoid(np.dot(p, self.W[layer]))\n",
    "        return p\n",
    "    \n",
    "    def calculate_loss(self, X, targets):\n",
    "        # make predictions for the input data points then compute\n",
    "        # the loss\n",
    "        targets = np.atleast_2d(targets)\n",
    "        predictions = self.predict(X)\n",
    "        loss = (1/len(X)) * np.sum((predictions - targets) ** 2)\n",
    "        return loss"
   ]
  },
  {
   "cell_type": "code",
   "execution_count": 21,
   "metadata": {},
   "outputs": [
    {
     "name": "stdout",
     "output_type": "stream",
     "text": [
      "<bound method NeuralNetwork.__repr__ of NN architecture: 2-2-1>\n",
      "[Training: ] epoch= 1 , loss= 0.7369525065303044\n",
      "[Training: ] epoch= 100 , loss= 0.5022180411456401\n",
      "[Training: ] epoch= 200 , loss= 0.5004997308106565\n",
      "[Training: ] epoch= 300 , loss= 0.4988074080928576\n",
      "[Training: ] epoch= 400 , loss= 0.49644115460720184\n",
      "[Training: ] epoch= 500 , loss= 0.4922910677749107\n",
      "[Training: ] epoch= 600 , loss= 0.4841604486546729\n",
      "[Training: ] epoch= 700 , loss= 0.4684231137961971\n",
      "[Training: ] epoch= 800 , loss= 0.4421883799428232\n",
      "[Training: ] epoch= 900 , loss= 0.40639047399824235\n",
      "[Training: ] epoch= 1000 , loss= 0.35917764585429446\n"
     ]
    }
   ],
   "source": [
    "# construct the XOR dataset\n",
    "X = np.array([[0, 0], [0, 1], [1, 0], [1, 1]])\n",
    "y = np.array([[0], [1], [1], [0]])\n",
    "\n",
    "# define our 2-2-1 neural network and train it\n",
    "nn = NeuralNetwork([2, 2, 1], alpha=0.3)\n",
    "print(nn.__repr__)\n",
    "# fit the Neural Network\n",
    "losses=nn.fit(X,y,1000)"
   ]
  },
  {
   "cell_type": "code",
   "execution_count": 22,
   "metadata": {},
   "outputs": [
    {
     "name": "stdout",
     "output_type": "stream",
     "text": [
      "[[0.41437942]]\n",
      "data= [0 0] , ground-truth= [0] , pred=, [[0.41437942]]  step= 0\n",
      "[[0.74676425]]\n",
      "data= [0 1] , ground-truth= [1] , pred=, [[0.74676425]]  step= 1\n",
      "[[0.41003617]]\n",
      "data= [1 0] , ground-truth= [1] , pred=, [[0.41003617]]  step= 0\n",
      "[[0.36668695]]\n",
      "data= [1 1] , ground-truth= [0] , pred=, [[0.36668695]]  step= 0\n"
     ]
    }
   ],
   "source": [
    "# now that our network is trained, loop over the XOR data points\n",
    "for (x, target) in zip(X, y):\n",
    "    # make a prediction on the data point and display the result\n",
    "    # to our console\n",
    "    pred = nn.predict(x, addBias=True)\n",
    "    print(pred)\n",
    "    step = 1 if pred > 0.5 else 0\n",
    "    print(\"data=\",x,\", ground-truth=\",target,\", pred=,\",pred,\" step=\",step)"
   ]
  },
  {
   "cell_type": "code",
   "execution_count": 5,
   "metadata": {},
   "outputs": [
    {
     "data": {
      "text/plain": [
       "[<matplotlib.lines.Line2D at 0x11891b940>]"
      ]
     },
     "execution_count": 5,
     "metadata": {},
     "output_type": "execute_result"
    },
    {
     "data": {
      "image/png": "[encoded data removed]",
      "text/plain": [
       "<Figure size 432x288 with 1 Axes>"
      ]
     },
     "metadata": {
      "needs_background": "light"
     },
     "output_type": "display_data"
    }
   ],
   "source": [
    "# plot the losses as function of training\n",
    "plt.plot(losses)"
   ]
  },
  {
   "cell_type": "markdown",
   "metadata": {},
   "source": [
    " ### Repeat the training with a NN with [2,1] architechture"
   ]
  },
  {
   "cell_type": "code",
   "execution_count": 23,
   "metadata": {},
   "outputs": [
    {
     "name": "stdout",
     "output_type": "stream",
     "text": [
      "<bound method NeuralNetwork.__repr__ of NN architecture: 2-1>\n",
      "[Training: ] epoch= 1 , loss= 0.5170318433970126\n",
      "[Training: ] epoch= 100 , loss= 0.5002389263753596\n",
      "[Training: ] epoch= 200 , loss= 0.5001532601783355\n",
      "[Training: ] epoch= 300 , loss= 0.500227192672055\n",
      "[Training: ] epoch= 400 , loss= 0.5002601188027591\n",
      "[Training: ] epoch= 500 , loss= 0.5002714888244832\n",
      "[Training: ] epoch= 600 , loss= 0.5002751879277106\n",
      "[Training: ] epoch= 700 , loss= 0.5002763709059848\n",
      "[Training: ] epoch= 800 , loss= 0.5002767472715666\n",
      "[Training: ] epoch= 900 , loss= 0.5002768668261943\n",
      "[Training: ] epoch= 1000 , loss= 0.500276904786037\n"
     ]
    }
   ],
   "source": [
    "### ENTER YOUR CODE HERE\n",
    "nn = \n",
    "print(nn.__repr__)\n",
    "# fit the Neural Network using 100 epochs\n",
    "### ENTER YOUR CODE HERE\n",
    "losses="
   ]
  },
  {
   "cell_type": "code",
   "execution_count": 24,
   "metadata": {},
   "outputs": [
    {
     "name": "stdout",
     "output_type": "stream",
     "text": [
      "data= [0 0] , ground-truth= [0] , pred=, [[0.50954855]]  step= 1\n",
      "data= [0 1] , ground-truth= [1] , pred=, [[0.49999985]]  step= 0\n",
      "data= [1 0] , ground-truth= [1] , pred=, [[0.49045044]]  step= 0\n",
      "data= [1 1] , ground-truth= [0] , pred=, [[0.48090871]]  step= 0\n"
     ]
    }
   ],
   "source": [
    "# now that our network is trained, loop over the XOR data points\n",
    "for (x, target) in zip(X, y):\n",
    "    # make a prediction on the data point and display the result\n",
    "    # to our console\n",
    "    pred = nn.predict(x,addBias=True)\n",
    "    step = 1 if pred > 0.5 else 0\n",
    "    print(\"data=\",x,\", ground-truth=\",target,\", pred=,\",pred,\" step=\",step)"
   ]
  },
  {
   "cell_type": "markdown",
   "metadata": {},
   "source": [
    "Notice that this network consisting of 1 neuron with two inputs is not enough for the XOR problem"
   ]
  },
  {
   "cell_type": "markdown",
   "metadata": {},
   "source": [
    "### Classification Problem"
   ]
  },
  {
   "cell_type": "code",
   "execution_count": 31,
   "metadata": {},
   "outputs": [],
   "source": [
    "from sklearn.preprocessing import LabelBinarizer\n",
    "from sklearn.model_selection import train_test_split\n",
    "from sklearn.metrics import classification_report\n",
    "from sklearn import datasets"
   ]
  },
  {
   "cell_type": "code",
   "execution_count": 32,
   "metadata": {},
   "outputs": [
    {
     "name": "stdout",
     "output_type": "stream",
     "text": [
      "loading MNIST (sample) dataset...\n",
      "samples: 1797, dim: 64\n"
     ]
    }
   ],
   "source": [
    "# load the MNIST dataset and apply min/max scaling to scale the\n",
    "# pixel intensity values to the range [0, 1] (each image is\n",
    "# represented by an 8 x 8 = 64-dim feature vector)\n",
    "print(\"loading MNIST (sample) dataset...\")\n",
    "digits = datasets.load_digits()\n",
    "data = digits.data.astype(\"float\")\n",
    "data = (data - data.min()) / (data.max() - data.min())\n",
    "print(\"samples: {}, dim: {}\".format(data.shape[0],\n",
    "data.shape[1]))\n",
    "# construct the training and testing splits\n",
    "(trainX, testX, trainY, testY) = train_test_split(data,\n",
    "digits.target, test_size=0.25)\n",
    "# convert the labels from integers to vectors: 1 = [0,1,0,0,0,0,0,0,0,0]\n",
    "lb=LabelBinarizer()\n",
    "trainY = LabelBinarizer().fit_transform(trainY)\n",
    "testY = lb.fit_transform(testY)"
   ]
  },
  {
   "cell_type": "code",
   "execution_count": 33,
   "metadata": {},
   "outputs": [
    {
     "data": {
      "image/png": "[encoded data removed]",
      "text/plain": [
       "<Figure size 432x288 with 4 Axes>"
      ]
     },
     "metadata": {
      "needs_background": "light"
     },
     "output_type": "display_data"
    }
   ],
   "source": [
    "for i in range(1,5):\n",
    "    plt.subplot(1,4,i)\n",
    "    plt.imshow(np.array(data[i]).reshape(8,8),cmap='gray')"
   ]
  },
  {
   "cell_type": "code",
   "execution_count": 29,
   "metadata": {},
   "outputs": [
    {
     "name": "stdout",
     "output_type": "stream",
     "text": [
      "training network...\n",
      "NN architecture: 64-32-16-10\n",
      "[Training: ] epoch= 1 , loss= 581.1626949757624\n",
      "[Training: ] epoch= 100 , loss= 1.23314533279164\n",
      "[Training: ] epoch= 200 , loss= 1.0974620179050332\n",
      "[Training: ] epoch= 300 , loss= 1.0610858658103783\n",
      "[Training: ] epoch= 400 , loss= 1.0441804991575163\n",
      "[Training: ] epoch= 500 , loss= 1.0344577430807966\n",
      "[Training: ] epoch= 600 , loss= 1.0281635101179507\n",
      "[Training: ] epoch= 700 , loss= 1.0237668088556662\n",
      "[Training: ] epoch= 800 , loss= 1.0205277396336072\n",
      "[Training: ] epoch= 900 , loss= 1.0180456499041424\n",
      "[Training: ] epoch= 1000 , loss= 1.0160850150086156\n",
      "[Training: ] epoch= 1100 , loss= 1.0144984740126124\n",
      "[Training: ] epoch= 1200 , loss= 1.0131891926341798\n",
      "[Training: ] epoch= 1300 , loss= 1.0120909655651567\n",
      "[Training: ] epoch= 1400 , loss= 1.0111570222056332\n",
      "[Training: ] epoch= 1500 , loss= 1.0103534002592078\n",
      "evaluating network...\n",
      "              precision    recall  f1-score   support\n",
      "\n",
      "           0       1.00      1.00      1.00        38\n",
      "           1       0.98      0.98      0.98        52\n",
      "           2       0.96      1.00      0.98        45\n",
      "           3       0.98      0.96      0.97        51\n",
      "           4       0.98      0.98      0.98        49\n",
      "           5       0.98      0.98      0.98        48\n",
      "           6       1.00      1.00      1.00        46\n",
      "           7       1.00      0.98      0.99        42\n",
      "           8       0.94      0.97      0.95        32\n",
      "           9       0.98      0.96      0.97        47\n",
      "\n",
      "    accuracy                           0.98       450\n",
      "   macro avg       0.98      0.98      0.98       450\n",
      "weighted avg       0.98      0.98      0.98       450\n",
      "\n"
     ]
    }
   ],
   "source": [
    "# train the network\n",
    "print(\"training network...\")\n",
    "#create a network object with two hidden layer h1 = 32 units and h2 = 16 units\n",
    "# ENTER YOUR CODE HERE\n",
    "nn =  \n",
    "print(\"{}\".format(nn))\n",
    "# fit your network using 1500 epochs\n",
    "# ENTER YOUR CODE HERE\n",
    "losses2 = \n",
    "# evaluate the network\n",
    "print(\"evaluating network...\")\n",
    "# test your network on the test data set (remember to set addBias to True)\n",
    "# ENTER YOUR CODE HERE\n",
    "predictions = \n",
    "# there is a value outputed on each of the output nodes. we choose the one with the highest\n",
    "# value to represent the predicted label\n",
    "predictions = predictions.argmax(axis=1)\n",
    "print(classification_report(testY.argmax(axis=1), predictions))"
   ]
  },
  {
   "cell_type": "code",
   "execution_count": 12,
   "metadata": {},
   "outputs": [],
   "source": [
    "# we now transform the labels of the test set back to integers from vectors for plotting purposes\n",
    "testY=lb.inverse_transform(testY)"
   ]
  },
  {
   "cell_type": "code",
   "execution_count": 13,
   "metadata": {},
   "outputs": [
    {
     "data": {
      "text/plain": [
       "<matplotlib.collections.PathCollection at 0x1297dfd30>"
      ]
     },
     "execution_count": 13,
     "metadata": {},
     "output_type": "execute_result"
    },
    {
     "data": {
      "image/png": "[encoded data removed]",
      "text/plain": [
       "<Figure size 432x288 with 1 Axes>"
      ]
     },
     "metadata": {
      "needs_background": "light"
     },
     "output_type": "display_data"
    }
   ],
   "source": [
    "\n",
    "plt.scatter(np.arange(len(predictions)),testY-predictions)"
   ]
  },
  {
   "cell_type": "code",
   "execution_count": 14,
   "metadata": {},
   "outputs": [
    {
     "data": {
      "text/plain": [
       "[<matplotlib.lines.Line2D at 0x129d43700>]"
      ]
     },
     "execution_count": 14,
     "metadata": {},
     "output_type": "execute_result"
    },
    {
     "data": {
      "image/png": "[encoded data removed]",
      "text/plain": [
       "<Figure size 432x288 with 1 Axes>"
      ]
     },
     "metadata": {
      "needs_background": "light"
     },
     "output_type": "display_data"
    }
   ],
   "source": [
    "# plot losses vs epochs\n",
    "plt.plot(np.concatenate(([0], np.arange(1,1500,100))),losses2)"
   ]
  },
  {
   "cell_type": "code",
   "execution_count": 15,
   "metadata": {},
   "outputs": [
    {
     "data": {
      "image/png": "[encoded data removed]",
      "text/plain": [
       "<Figure size 432x288 with 1 Axes>"
      ]
     },
     "metadata": {
      "needs_background": "light"
     },
     "output_type": "display_data"
    }
   ],
   "source": [
    "import sklearn.datasets\n",
    "#  load a classification dataset from sklearn\n",
    "X, Y = sklearn.datasets.make_moons(200, noise=0.150)\n",
    "plt.scatter(X[:,0], X[:,1], s=42, c=Y, cmap=plt.cm.Set1)\n",
    "y=Y.reshape(-1,1)"
   ]
  },
  {
   "cell_type": "code",
   "execution_count": 16,
   "metadata": {},
   "outputs": [
    {
     "data": {
      "text/plain": [
       "(200, 2)"
      ]
     },
     "execution_count": 16,
     "metadata": {},
     "output_type": "execute_result"
    }
   ],
   "source": [
    "y=np.concatenate((y,np.logical_not(y).astype('int')),axis=1)\n",
    "y.shape"
   ]
  },
  {
   "cell_type": "code",
   "execution_count": 17,
   "metadata": {},
   "outputs": [
    {
     "name": "stdout",
     "output_type": "stream",
     "text": [
      "[Training: ] epoch= 1 , loss= 49.08199645417883\n",
      "[Training: ] epoch= 100 , loss= 20.65119341746522\n",
      "[Training: ] epoch= 200 , loss= 18.934998049489252\n",
      "[Training: ] epoch= 300 , loss= 18.658438460403907\n",
      "[Training: ] epoch= 400 , loss= 18.57865775110286\n",
      "[Training: ] epoch= 500 , loss= 18.538731366164313\n",
      "[Training: ] epoch= 600 , loss= 18.509511714186644\n",
      "[Training: ] epoch= 700 , loss= 18.48423541149321\n",
      "[Training: ] epoch= 800 , loss= 18.461044092018135\n",
      "[Training: ] epoch= 900 , loss= 18.439314256247826\n",
      "[Training: ] epoch= 1000 , loss= 18.418775769035392\n",
      "[Training: ] epoch= 1100 , loss= 18.39927489367297\n",
      "[Training: ] epoch= 1200 , loss= 18.380699717695173\n",
      "[Training: ] epoch= 1300 , loss= 18.362952215992202\n",
      "[Training: ] epoch= 1400 , loss= 18.345937537578145\n",
      "[Training: ] epoch= 1500 , loss= 18.32956135455869\n",
      "[Training: ] epoch= 1600 , loss= 18.313731054075017\n",
      "[Training: ] epoch= 1700 , loss= 18.29835833572281\n",
      "[Training: ] epoch= 1800 , loss= 18.28336187047956\n",
      "[Training: ] epoch= 1900 , loss= 18.26866940825101\n",
      "[Training: ] epoch= 2000 , loss= 18.25421913896804\n",
      "[Training: ] epoch= 2100 , loss= 18.239960304221018\n",
      "[Training: ] epoch= 2200 , loss= 18.225853126006413\n",
      "[Training: ] epoch= 2300 , loss= 18.21186814415063\n",
      "[Training: ] epoch= 2400 , loss= 18.197985074024025\n",
      "[Training: ] epoch= 2500 , loss= 18.18419131929284\n",
      "[Training: ] epoch= 2600 , loss= 18.170480291760406\n",
      "[Training: ] epoch= 2700 , loss= 18.15684969079298\n",
      "[Training: ] epoch= 2800 , loss= 18.14329987467137\n",
      "[Training: ] epoch= 2900 , loss= 18.129832420737458\n",
      "[Training: ] epoch= 3000 , loss= 18.11644893055079\n",
      "[Training: ] epoch= 3100 , loss= 18.10315009970915\n",
      "[Training: ] epoch= 3200 , loss= 18.089935044402093\n",
      "[Training: ] epoch= 3300 , loss= 18.076800858466775\n",
      "[Training: ] epoch= 3400 , loss= 18.063742363380026\n",
      "[Training: ] epoch= 3500 , loss= 18.05075200647137\n",
      "[Training: ] epoch= 3600 , loss= 18.03781985765763\n",
      "[Training: ] epoch= 3700 , loss= 18.02493365103782\n",
      "[Training: ] epoch= 3800 , loss= 18.012078813952428\n",
      "[Training: ] epoch= 3900 , loss= 17.999238421498333\n",
      "[Training: ] epoch= 4000 , loss= 17.98639300700188\n",
      "[Training: ] epoch= 4100 , loss= 17.973520145172785\n",
      "[Training: ] epoch= 4200 , loss= 17.9605936989652\n",
      "[Training: ] epoch= 4300 , loss= 17.94758257418795\n",
      "[Training: ] epoch= 4400 , loss= 17.9344487413086\n",
      "[Training: ] epoch= 4500 , loss= 17.921144131788786\n",
      "[Training: ] epoch= 4600 , loss= 17.907605739287874\n",
      "[Training: ] epoch= 4700 , loss= 17.893747739273454\n",
      "[Training: ] epoch= 4800 , loss= 17.87944844411507\n",
      "[Training: ] epoch= 4900 , loss= 17.864527911634262\n",
      "[Training: ] epoch= 5000 , loss= 17.848707827887022\n",
      "[Training: ] epoch= 5100 , loss= 17.83153601070274\n",
      "[Training: ] epoch= 5200 , loss= 17.812236180153896\n",
      "[Training: ] epoch= 5300 , loss= 17.78938947347072\n",
      "[Training: ] epoch= 5400 , loss= 17.760208487800412\n",
      "[Training: ] epoch= 5500 , loss= 17.71873629909316\n",
      "[Training: ] epoch= 5600 , loss= 17.650902793886967\n",
      "[Training: ] epoch= 5700 , loss= 17.51936691304042\n",
      "[Training: ] epoch= 5800 , loss= 17.215727088286563\n",
      "[Training: ] epoch= 5900 , loss= 16.442631244657278\n",
      "[Training: ] epoch= 6000 , loss= 14.554601625781103\n",
      "[Training: ] epoch= 6100 , loss= 11.569455092990317\n",
      "[Training: ] epoch= 6200 , loss= 8.909807232080071\n",
      "[Training: ] epoch= 6300 , loss= 7.026910962900523\n",
      "[Training: ] epoch= 6400 , loss= 5.7297023655770705\n",
      "[Training: ] epoch= 6500 , loss= 4.803685305020116\n",
      "[Training: ] epoch= 6600 , loss= 4.112216916371411\n",
      "[Training: ] epoch= 6700 , loss= 3.5763699977553287\n",
      "[Training: ] epoch= 6800 , loss= 3.1500050123737995\n",
      "[Training: ] epoch= 6900 , loss= 2.8041790232248713\n",
      "[Training: ] epoch= 7000 , loss= 2.5192702242734146\n",
      "[Training: ] epoch= 7100 , loss= 2.2813198546625206\n",
      "[Training: ] epoch= 7200 , loss= 2.0801411505899097\n",
      "[Training: ] epoch= 7300 , loss= 1.90817639372231\n",
      "[Training: ] epoch= 7400 , loss= 1.759741674187635\n",
      "[Training: ] epoch= 7500 , loss= 1.6305065300705426\n",
      "[Training: ] epoch= 7600 , loss= 1.517127403271428\n",
      "[Training: ] epoch= 7700 , loss= 1.4169867144515291\n",
      "[Training: ] epoch= 7800 , loss= 1.3280065146269493\n",
      "[Training: ] epoch= 7900 , loss= 1.2485151938772818\n",
      "[Training: ] epoch= 8000 , loss= 1.1771517056590115\n",
      "[Training: ] epoch= 8100 , loss= 1.1127960742484275\n",
      "[Training: ] epoch= 8200 , loss= 1.0545182388073169\n",
      "[Training: ] epoch= 8300 , loss= 1.0015397447221355\n",
      "[Training: ] epoch= 8400 , loss= 0.9532045474961526\n",
      "[Training: ] epoch= 8500 , loss= 0.9089563956249074\n",
      "[Training: ] epoch= 8600 , loss= 0.8683210589259782\n",
      "[Training: ] epoch= 8700 , loss= 0.8308921959607216\n",
      "[Training: ] epoch= 8800 , loss= 0.796320002881746\n",
      "[Training: ] epoch= 8900 , loss= 0.7643020201297125\n",
      "[Training: ] epoch= 9000 , loss= 0.7345756339863628\n",
      "[Training: ] epoch= 9100 , loss= 0.7069119228734263\n",
      "[Training: ] epoch= 9200 , loss= 0.681110579574291\n",
      "[Training: ] epoch= 9300 , loss= 0.656995700379941\n",
      "[Training: ] epoch= 9400 , loss= 0.6344122770164473\n",
      "[Training: ] epoch= 9500 , loss= 0.6132232613629627\n",
      "[Training: ] epoch= 9600 , loss= 0.5933070992956806\n",
      "[Training: ] epoch= 9700 , loss= 0.5745556504919017\n",
      "[Training: ] epoch= 9800 , loss= 0.5568724271215368\n",
      "[Training: ] epoch= 9900 , loss= 0.5401710970737853\n",
      "[Training: ] epoch= 10000 , loss= 0.524374207480657\n"
     ]
    }
   ],
   "source": [
    "# train a network of shape with a single hidden layer of 3 units\n",
    "# (not input layer and not output layer) \n",
    "# and learning rate of 0.01\n",
    "# ENTER YOUR CODE HERE\n",
    "nn = \n",
    "# fit model using 10000 epochs\n",
    "# ENTER YOUR CODE HERE\n",
    "losses3 = "
   ]
  },
  {
   "cell_type": "code",
   "execution_count": null,
   "metadata": {},
   "outputs": [],
   "source": [
    "# Set min and max values and give it some padding\n",
    "x_min, x_max = X[:, 0].min() - .5, X[:, 0].max() + .5\n",
    "y_min, y_max = X[:, 1].min() - .5, X[:, 1].max() + .5\n",
    "h = 0.01\n",
    "# Generate a grid of points with distance h between them\n",
    "xx, yy = np.meshgrid(np.arange(x_min, x_max, h), np.arange(y_min, y_max, h))\n",
    "# Predict the function value for the whole gid\n",
    "Z = nn.predict(np.c_[xx.ravel(), yy.ravel()],addBias=True)\n",
    "\n",
    "# Plot the contour and training examples\n",
    "plt.contourf(xx, yy, Z[:,1].reshape(xx.shape), cmap=plt.cm.Set1, alpha=0.2)\n",
    "plt.scatter(X[:, 0], X[:, 1], c=Y, cmap=plt.cm.Set1)"
   ]
  },
  {
   "cell_type": "markdown",
   "metadata": {},
   "source": [
    "### 1. Change the learnig rate (10 times bigger), did the loss decrease faster?\n",
    "### 2. Try different NN architecutres and see how performance changes"
   ]
  },
  {
   "cell_type": "markdown",
   "metadata": {},
   "source": [
    "### Regression Problem"
   ]
  },
  {
   "cell_type": "code",
   "execution_count": 19,
   "metadata": {},
   "outputs": [],
   "source": [
    "X = np.random.uniform(-1, 1, size=1000)\n",
    "\n",
    "y= np.power(X,2)+ np.random.normal(0, 1, size=X.shape[0]) * 0.2\n",
    "X = X.reshape(-1,1)\n",
    "y = y.reshape(-1,1)"
   ]
  },
  {
   "cell_type": "code",
   "execution_count": 20,
   "metadata": {},
   "outputs": [
    {
     "data": {
      "text/plain": [
       "<matplotlib.collections.PathCollection at 0x129a59e50>"
      ]
     },
     "execution_count": 20,
     "metadata": {},
     "output_type": "execute_result"
    },
    {
     "data": {
      "image/png": "[encoded data removed]",
      "text/plain": [
       "<Figure size 432x288 with 1 Axes>"
      ]
     },
     "metadata": {
      "needs_background": "light"
     },
     "output_type": "display_data"
    }
   ],
   "source": [
    "plt.scatter(X,y)"
   ]
  },
  {
   "cell_type": "code",
   "execution_count": 21,
   "metadata": {},
   "outputs": [
    {
     "name": "stdout",
     "output_type": "stream",
     "text": [
      "[Training: ] epoch= 1 , loss= 63.58412438303212\n",
      "[Training: ] epoch= 100 , loss= 34.4869038818933\n",
      "[Training: ] epoch= 200 , loss= 21.080523871361933\n",
      "[Training: ] epoch= 300 , loss= 19.955945394069417\n",
      "[Training: ] epoch= 400 , loss= 19.75790345142498\n",
      "[Training: ] epoch= 500 , loss= 19.696838190958204\n",
      "[Training: ] epoch= 600 , loss= 19.666489357743345\n",
      "[Training: ] epoch= 700 , loss= 19.64636331951319\n",
      "[Training: ] epoch= 800 , loss= 19.631195446241634\n",
      "[Training: ] epoch= 900 , loss= 19.619044319900368\n",
      "[Training: ] epoch= 1000 , loss= 19.608922979572085\n",
      "[Training: ] epoch= 1100 , loss= 19.600235159237712\n",
      "[Training: ] epoch= 1200 , loss= 19.592590821745855\n",
      "[Training: ] epoch= 1300 , loss= 19.585722370459077\n",
      "[Training: ] epoch= 1400 , loss= 19.579438995296353\n",
      "[Training: ] epoch= 1500 , loss= 19.573599730171864\n",
      "[Training: ] epoch= 1600 , loss= 19.568096840391085\n",
      "[Training: ] epoch= 1700 , loss= 19.562845278062518\n",
      "[Training: ] epoch= 1800 , loss= 19.557775899129474\n",
      "[Training: ] epoch= 1900 , loss= 19.55283115046008\n",
      "[Training: ] epoch= 2000 , loss= 19.547962473876538\n",
      "[Training: ] epoch= 2100 , loss= 19.543128950175408\n",
      "[Training: ] epoch= 2200 , loss= 19.538296826862492\n",
      "[Training: ] epoch= 2300 , loss= 19.533439600762122\n",
      "[Training: ] epoch= 2400 , loss= 19.528538311419005\n",
      "[Training: ] epoch= 2500 , loss= 19.523581695339153\n",
      "[Training: ] epoch= 2600 , loss= 19.518565902570657\n",
      "[Training: ] epoch= 2700 , loss= 19.513493609248208\n",
      "[Training: ] epoch= 2800 , loss= 19.508372550961585\n",
      "[Training: ] epoch= 2900 , loss= 19.50321368763671\n",
      "[Training: ] epoch= 3000 , loss= 19.498029316991797\n",
      "[Training: ] epoch= 3100 , loss= 19.49283144260607\n",
      "[Training: ] epoch= 3200 , loss= 19.4876305947988\n",
      "[Training: ] epoch= 3300 , loss= 19.48243515892503\n",
      "[Training: ] epoch= 3400 , loss= 19.477251147421065\n",
      "[Training: ] epoch= 3500 , loss= 19.472082290026137\n",
      "[Training: ] epoch= 3600 , loss= 19.46693030868526\n",
      "[Training: ] epoch= 3700 , loss= 19.46179526899628\n",
      "[Training: ] epoch= 3800 , loss= 19.45667593656165\n",
      "[Training: ] epoch= 3900 , loss= 19.45157009968365\n",
      "[Training: ] epoch= 4000 , loss= 19.446474843534325\n",
      "[Training: ] epoch= 4100 , loss= 19.441386775011082\n",
      "[Training: ] epoch= 4200 , loss= 19.43630220424683\n",
      "[Training: ] epoch= 4300 , loss= 19.431217290870975\n",
      "[Training: ] epoch= 4400 , loss= 19.426128162773406\n",
      "[Training: ] epoch= 4500 , loss= 19.42103101372286\n",
      "[Training: ] epoch= 4600 , loss= 19.415922184537557\n",
      "[Training: ] epoch= 4700 , loss= 19.41079823098757\n",
      "[Training: ] epoch= 4800 , loss= 19.40565598037535\n",
      "[Training: ] epoch= 4900 , loss= 19.400492577820984\n",
      "[Training: ] epoch= 5000 , loss= 19.39530552264953\n",
      "[Training: ] epoch= 5100 , loss= 19.39009269490093\n",
      "[Training: ] epoch= 5200 , loss= 19.384852371818525\n",
      "[Training: ] epoch= 5300 , loss= 19.379583234185667\n",
      "[Training: ] epoch= 5400 , loss= 19.374284362537022\n",
      "[Training: ] epoch= 5500 , loss= 19.368955223539906\n",
      "[Training: ] epoch= 5600 , loss= 19.36359564718465\n",
      "[Training: ] epoch= 5700 , loss= 19.358205795805127\n",
      "[Training: ] epoch= 5800 , loss= 19.352786126327167\n",
      "[Training: ] epoch= 5900 , loss= 19.347337347474163\n",
      "[Training: ] epoch= 6000 , loss= 19.34186037390622\n",
      "[Training: ] epoch= 6100 , loss= 19.336356279400423\n",
      "[Training: ] epoch= 6200 , loss= 19.33082625117496\n",
      "[Training: ] epoch= 6300 , loss= 19.325271547313033\n",
      "[Training: ] epoch= 6400 , loss= 19.319693458963336\n",
      "[Training: ] epoch= 6500 , loss= 19.314093278605718\n",
      "[Training: ] epoch= 6600 , loss= 19.308472275210153\n",
      "[Training: ] epoch= 6700 , loss= 19.30283167662715\n",
      "[Training: ] epoch= 6800 , loss= 19.297172659072302\n",
      "[Training: ] epoch= 6900 , loss= 19.291496343148467\n",
      "[Training: ] epoch= 7000 , loss= 19.28580379551706\n",
      "[Training: ] epoch= 7100 , loss= 19.280096035104872\n",
      "[Training: ] epoch= 7200 , loss= 19.274374042621897\n",
      "[Training: ] epoch= 7300 , loss= 19.268638772162152\n",
      "[Training: ] epoch= 7400 , loss= 19.262891163746623\n",
      "[Training: ] epoch= 7500 , loss= 19.257132155823687\n",
      "[Training: ] epoch= 7600 , loss= 19.251362696940507\n",
      "[Training: ] epoch= 7700 , loss= 19.245583756013588\n",
      "[Training: ] epoch= 7800 , loss= 19.239796330837255\n",
      "[Training: ] epoch= 7900 , loss= 19.234001454656806\n",
      "[Training: ] epoch= 8000 , loss= 19.228200200789185\n",
      "[Training: ] epoch= 8100 , loss= 19.222393685392525\n",
      "[Training: ] epoch= 8200 , loss= 19.216583068566862\n",
      "[Training: ] epoch= 8300 , loss= 19.21076955401488\n",
      "[Training: ] epoch= 8400 , loss= 19.20495438751069\n",
      "[Training: ] epoch= 8500 , loss= 19.199138854421275\n",
      "[Training: ] epoch= 8600 , loss= 19.19332427650779\n",
      "[Training: ] epoch= 8700 , loss= 19.18751200820749\n",
      "[Training: ] epoch= 8800 , loss= 19.181703432566568\n",
      "[Training: ] epoch= 8900 , loss= 19.175899956963953\n",
      "[Training: ] epoch= 9000 , loss= 19.170103008737453\n",
      "[Training: ] epoch= 9100 , loss= 19.164314030798597\n",
      "[Training: ] epoch= 9200 , loss= 19.15853447730206\n",
      "[Training: ] epoch= 9300 , loss= 19.152765809418025\n",
      "[Training: ] epoch= 9400 , loss= 19.147009491243132\n",
      "[Training: ] epoch= 9500 , loss= 19.14126698587524\n",
      "[Training: ] epoch= 9600 , loss= 19.135539751669636\n",
      "[Training: ] epoch= 9700 , loss= 19.129829238688743\n",
      "[Training: ] epoch= 9800 , loss= 19.12413688535301\n",
      "[Training: ] epoch= 9900 , loss= 19.118464115297584\n",
      "[Training: ] epoch= 10000 , loss= 19.112812334436832\n"
     ]
    }
   ],
   "source": [
    "nn = NeuralNetwork([1, 6,1], alpha=0.01)\n",
    "losses4 = nn.fit(X, y, epochs=10000)"
   ]
  },
  {
   "cell_type": "code",
   "execution_count": 22,
   "metadata": {},
   "outputs": [
    {
     "data": {
      "text/plain": [
       "[<matplotlib.lines.Line2D at 0x129de61f0>]"
      ]
     },
     "execution_count": 22,
     "metadata": {},
     "output_type": "execute_result"
    },
    {
     "data": {
      "image/png": "[encoded data removed]",
      "text/plain": [
       "<Figure size 432x288 with 1 Axes>"
      ]
     },
     "metadata": {
      "needs_background": "light"
     },
     "output_type": "display_data"
    }
   ],
   "source": [
    "plt.plot(losses4)"
   ]
  },
  {
   "cell_type": "code",
   "execution_count": 23,
   "metadata": {},
   "outputs": [
    {
     "data": {
      "text/plain": [
       "[<matplotlib.lines.Line2D at 0x12a767040>]"
      ]
     },
     "execution_count": 23,
     "metadata": {},
     "output_type": "execute_result"
    },
    {
     "data": {
      "image/png": "[encoded data removed]",
      "text/plain": [
       "<Figure size 432x288 with 1 Axes>"
      ]
     },
     "metadata": {
      "needs_background": "light"
     },
     "output_type": "display_data"
    }
   ],
   "source": [
    "plt.scatter(X,y)\n",
    "y_hat =  nn.predict(np.sort(X,axis=0),addBias=True)\n",
    "plt.plot(np.sort(X,axis=0),y_hat,c='red')"
   ]
  },
  {
   "cell_type": "code",
   "execution_count": 24,
   "metadata": {},
   "outputs": [
    {
     "data": {
      "text/plain": [
       "(1000, 1)"
      ]
     },
     "execution_count": 24,
     "metadata": {},
     "output_type": "execute_result"
    }
   ],
   "source": [
    "X.shape"
   ]
  },
  {
   "cell_type": "markdown",
   "metadata": {},
   "source": [
    "### Try different NN architecutres and see how performance changes \n",
    "### Try different learning rates and see if you can improve the results"
   ]
  },
  {
   "cell_type": "markdown",
   "metadata": {},
   "source": [
    "### Change the `NeuralNetwork` class such that you use the momentum rule for updating the weights. Retrain the MNIST dataset. \n",
    "\n",
    "* How did the training go? \n",
    "* Are the losses smaller? \n",
    "* Is the accuracy the same? \n",
    "* What does it mean?"
   ]
  },
  {
   "cell_type": "code",
   "execution_count": 2,
   "metadata": {},
   "outputs": [],
   "source": [
    "# YOUR CODE HERE"
   ]
  },
  {
   "cell_type": "code",
   "execution_count": 5,
   "metadata": {},
   "outputs": [
    {
     "name": "stdout",
     "output_type": "stream",
     "text": [
      "loading MNIST (sample) dataset...\n",
      "samples: 1797, dim: 64\n"
     ]
    }
   ],
   "source": [
    "# load the MNIST dataset and apply min/max scaling to scale the\n",
    "# pixel intensity values to the range [0, 1] (each image is\n",
    "# represented by an 8 x 8 = 64-dim feature vector)\n",
    "print(\"loading MNIST (sample) dataset...\")\n",
    "digits = datasets.load_digits()\n",
    "data = digits.data.astype(\"float\")\n",
    "data = (data - data.min()) / (data.max() - data.min())\n",
    "print(\"samples: {}, dim: {}\".format(data.shape[0],\n",
    "data.shape[1]))\n",
    "# construct the training and testing splits\n",
    "(trainX, testX, trainY, testY) = train_test_split(data,\n",
    "digits.target, test_size=0.25)\n",
    "# convert the labels from integers to vectors:1 = [0,1,0,0,0,0,0,0,0,0]\n",
    "lb=LabelBinarizer()\n",
    "trainY =lb.fit_transform(trainY)\n",
    "testY = lb.transform(testY)"
   ]
  },
  {
   "cell_type": "code",
   "execution_count": 6,
   "metadata": {},
   "outputs": [
    {
     "name": "stdout",
     "output_type": "stream",
     "text": [
      "training network...\n",
      "NN architecture: 64-32-16-10\n",
      "[Training: ] epoch= 1 , loss= 462.2215087238684\n",
      "[testing:] test loss 157.52412120679014\n",
      "[Training: ] epoch= 100 , loss= 0.6154578328486505\n",
      "[testing:] test loss 12.352750215718785\n",
      "[Training: ] epoch= 200 , loss= 0.05432720992075998\n",
      "[testing:] test loss 11.851659839896683\n",
      "[Training: ] epoch= 300 , loss= 0.032239712876858034\n",
      "[testing:] test loss 11.563767587857338\n",
      "[Training: ] epoch= 400 , loss= 0.022998325411491563\n",
      "[testing:] test loss 11.428692133894137\n",
      "[Training: ] epoch= 500 , loss= 0.017825347800691844\n",
      "[testing:] test loss 11.349412120024024\n",
      "[Training: ] epoch= 600 , loss= 0.014514358608239665\n",
      "[testing:] test loss 11.293113558294651\n",
      "[Training: ] epoch= 700 , loss= 0.012222950725596564\n",
      "[testing:] test loss 11.246703333418477\n",
      "[Training: ] epoch= 800 , loss= 0.010549573071534873\n",
      "[testing:] test loss 11.20550189934811\n",
      "[Training: ] epoch= 900 , loss= 0.009276482915227029\n",
      "[testing:] test loss 11.168023317736669\n",
      "[Training: ] epoch= 1000 , loss= 0.008276155070206747\n",
      "[testing:] test loss 11.133682612753478\n",
      "[Training: ] epoch= 1100 , loss= 0.007469571499909298\n",
      "[testing:] test loss 11.102092835019196\n",
      "[Training: ] epoch= 1200 , loss= 0.006805413854005828\n",
      "[testing:] test loss 11.072916869044885\n",
      "[Training: ] epoch= 1300 , loss= 0.006248987920094511\n",
      "[testing:] test loss 11.045851519696985\n",
      "[Training: ] epoch= 1400 , loss= 0.005776021566852703\n",
      "[testing:] test loss 11.020630286731286\n",
      "[Training: ] epoch= 1500 , loss= 0.00536903102220991\n",
      "[testing:] test loss 10.997023756842005\n",
      "evaluating network...\n",
      "              precision    recall  f1-score   support\n",
      "\n",
      "           0       1.00      1.00      1.00        46\n",
      "           1       0.91      1.00      0.95        42\n",
      "           2       1.00      1.00      1.00        26\n",
      "           3       0.96      0.95      0.95        56\n",
      "           4       0.96      0.96      0.96        47\n",
      "           5       0.92      0.96      0.94        47\n",
      "           6       1.00      0.96      0.98        56\n",
      "           7       0.98      0.98      0.98        46\n",
      "           8       0.97      0.86      0.91        43\n",
      "           9       0.93      0.98      0.95        41\n",
      "\n",
      "    accuracy                           0.96       450\n",
      "   macro avg       0.96      0.96      0.96       450\n",
      "weighted avg       0.96      0.96      0.96       450\n",
      "\n"
     ]
    }
   ],
   "source": [
    "# train the network\n",
    "print(\"training network...\")\n",
    "#create a network object with two hidden layer h1 = 32 units and h2 = 16 units\n",
    "# use alpha=0.5 and gamma=0.5\n",
    "# ENTER YOUR CODE HERE\n",
    "nn = \n",
    "print(\"{}\".format(nn))\n",
    "# fit your network 1500 ephocs\n",
    "# ENTER YOUR CODE HERE\n",
    "losses5 = \n",
    "# evaluate the network\n",
    "print(\"evaluating network...\")\n",
    "# make prediction on test set\n",
    "# ENTER YOUR CODE HERE\n",
    "predictions2 = \n",
    "predictions2 = predictions2.argmax(axis=1)\n",
    "print(classification_report(testY.argmax(axis=1), predictions2))"
   ]
  },
  {
   "cell_type": "code",
   "execution_count": 34,
   "metadata": {},
   "outputs": [],
   "source": [
    "#plot losses with and without momentum"
   ]
  },
  {
   "cell_type": "code",
   "execution_count": null,
   "metadata": {},
   "outputs": [],
   "source": [
    "# try different gamma values"
   ]
  },
  {
   "cell_type": "code",
   "execution_count": null,
   "metadata": {},
   "outputs": [],
   "source": []
  },
  {
   "cell_type": "code",
   "execution_count": null,
   "metadata": {},
   "outputs": [],
   "source": []
  },
  {
   "cell_type": "code",
   "execution_count": null,
   "metadata": {},
   "outputs": [],
   "source": []
  }
 ],
 "metadata": {
  "kernelspec": {
   "display_name": "Python 3 (ipykernel)",
   "language": "python",
   "name": "python3"
  },
  "language_info": {
   "codemirror_mode": {
    "name": "ipython",
    "version": 3
   },
   "file_extension": ".py",
   "mimetype": "text/x-python",
   "name": "python",
   "nbconvert_exporter": "python",
   "pygments_lexer": "ipython3",
   "version": "3.10.10"
  },
  "latex_envs": {
   "LaTeX_envs_menu_present": true,
   "autoclose": false,
   "autocomplete": true,
   "bibliofile": "biblio.bib",
   "cite_by": "apalike",
   "current_citInitial": 1,
   "eqLabelWithNumbers": true,
   "eqNumInitial": 1,
   "hotkeys": {
    "equation": "Ctrl-E",
    "itemize": "Ctrl-I"
   },
   "labels_anchors": false,
   "latex_user_defs": false,
   "report_style_numbering": false,
   "user_envs_cfg": false
  }
 },
 "nbformat": 4,
 "nbformat_minor": 4
}
