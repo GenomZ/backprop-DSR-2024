{
 "cells": [
  {
   "cell_type": "markdown",
   "metadata": {},
   "source": [
    "# DSR - Practical 4 - Neural networks\n",
    "\n",
    "\n",
    "### Here we are going to implement a Multy Layered Neural Netwrok.\n",
    "### We will use and extreme case of SGD where the batch size is 1 (i.e updating weights after every sample)"
   ]
  },
  {
   "cell_type": "code",
   "execution_count": 1,
   "metadata": {},
   "outputs": [],
   "source": [
    "import numpy as np\n",
    "import matplotlib.pyplot as plt"
   ]
  },
  {
   "cell_type": "markdown",
   "metadata": {},
   "source": [
    "### multi layer perceptron class:\n",
    "\n",
    "loss function:\n",
    "$$ loss = \\frac{1}N(pred-true)^{2}$$\n"
   ]
  },
  {
   "cell_type": "code",
   "execution_count": 2,
   "metadata": {},
   "outputs": [],
   "source": [
    "class NeuralNetwork:\n",
    "    def __init__(self, layers, alpha=0.1):\n",
    "    # initialize the list of weights matrices, then store the\n",
    "    # network architecture and learning rate\n",
    "        self.W = []\n",
    "        self.layers = layers\n",
    "        self.alpha = alpha\n",
    "        # start looping from the index of the first layer but\n",
    "        # stop before we reach the last two layers\n",
    "        for i in np.arange(0, len(layers) - 2):\n",
    "            # randomly initialize a weight matrix connecting the\n",
    "            # number of nodes in each respective layer together,\n",
    "            # adding an extra node for the bias\n",
    "            w = np.random.randn(layers[i] + 1, layers[i + 1] + 1)\n",
    "            self.W.append(w / np.sqrt(layers[i]))\n",
    "        # in this example we let the last two layers   \n",
    "        # connections have no bias\n",
    "        w = np.random.randn(layers[-2] + 1, layers[-1])\n",
    "        self.W.append(w / np.sqrt(layers[-2]))\n",
    "    \n",
    "    def __repr__(self):\n",
    "        # construct and return a string that represents the network\n",
    "        # architecture\n",
    "        return \"NN architecture: {}\".format(\n",
    "        \"-\".join(str(l) for l in self.layers))\n",
    "    \n",
    "    def sigmoid(self, x):\n",
    "        # compute and return the sigmoid activation value for a\n",
    "        # given input value\n",
    "        return 1 / (1 + np.exp(-x))\n",
    "    \n",
    "    def sigmoid_deriv(self, s):\n",
    "        # compute the derivative of the sigmoid function ASSUMING\n",
    "        # that `s` has already been passed through the `sigmoid`\n",
    "        # function\n",
    "        return s * (1 - s)\n",
    "    \n",
    "    def fit(self, X, y, epochs=1000, displayUpdate=100):\n",
    "        # insert a column of 1's as the last entry in the feature\n",
    "        # matrix -- this little trick allows us to treat the bias\n",
    "        # as a trainable parameter within the weight matrix\n",
    "        \n",
    "        X = np.c_[X, np.ones((X.shape[0]))]\n",
    "        losses = []\n",
    "        # loop over the desired number of epochs\n",
    "        for epoch in np.arange(0, epochs):\n",
    "            # loop over each individual data point and train\n",
    "            # our network on it\n",
    "            for (x, target) in zip(X, y):\n",
    "                self.fit_partial(x, target)\n",
    "                # check to see if we should display a training update\n",
    "            if epoch == 0 or (epoch + 1) % displayUpdate == 0:\n",
    "                loss = self.calculate_loss(X, y)\n",
    "                print(\"[Training: ] epoch=\", epoch+1, \", loss=\",loss)\n",
    "                losses.append(loss)  \n",
    "        return losses\n",
    "                    \n",
    "    def fit_partial(self, x, y):\n",
    "        # construct our list of output activations for each layer\n",
    "        # as our data point flows through the network; the first\n",
    "        # activation is a special case -- it's just the input\n",
    "        # feature vector itself\n",
    "        A = [np.atleast_2d(x)]\n",
    "        # FEEDFORWARD:\n",
    "        # loop over the layers in the network\n",
    "        for layer in np.arange(0, len(self.W)):\n",
    "            # feedforward the activation at the current layer by\n",
    "            # taking the dot product between the activation and\n",
    "            # the weight matrix -- this is called the \"net input\"\n",
    "            # to the current layer\n",
    "            net = A[layer].dot(self.W[layer])\n",
    "            # computing the \"net output\" is simply applying our\n",
    "            # nonlinear activation function to the net input\n",
    "            out = self.sigmoid(net)\n",
    "            # once we have the net output, add it to our list of\n",
    "            # activations\n",
    "            A.append(out)\n",
    "\n",
    "        # BACKPROPAGATION\n",
    "        # the first phase of backpropagation is to compute the\n",
    "        # difference between our *prediction* (the final output\n",
    "        # activation in the activations list) and the true target\n",
    "        # value\n",
    "        derror = A[-1] - y\n",
    "\n",
    "        # from here, we need to apply the chain rule and build our\n",
    "        # list of deltas `D`; the first entry in the deltas is\n",
    "        # simply the error of the output layer times the derivative\n",
    "        # of our activation function for the output value\n",
    "        D = [derror * self.sigmoid_deriv(A[-1])]\n",
    "        # once you understand the chain rule it becomes super easy\n",
    "        # to implement with a `for` loop -- simply loop over the\n",
    "        # layers in reverse order (ignoring the last two since we\n",
    "        # already have taken them into account)\n",
    "        for layer in np.arange(len(A) - 2, 0, -1):\n",
    "            # the delta for the current layer is equal to the delta\n",
    "            # of the *previous layer* dotted with the weight matrix\n",
    "            # of the current layer, followed by multiplying the delta\n",
    "            # by the derivative of the nonlinear activation function\n",
    "            # for the activations of the current layer\n",
    "            delta = D[-1].dot(self.W[layer].T)\n",
    "            delta = delta * self.sigmoid_deriv(A[layer])\n",
    "            D.append(delta)\n",
    "        # since we looped over our layers in reverse order we need to\n",
    "        # reverse the deltas\n",
    "        D = D[::-1]\n",
    "        # WEIGHT UPDATE PHASE\n",
    "        # loop over the layers\n",
    "        for layer in np.arange(0, len(self.W)):\n",
    "        # update our weights by taking the dot product of the layer\n",
    "        # activations with their respective deltas, then multiplying\n",
    "        # this value by some small learning rate and adding to our\n",
    "        # weight matrix -- this is where the actual \"learning\" takes\n",
    "        # place\n",
    "            self.W[layer] += -self.alpha * A[layer].T.dot(D[layer])\n",
    "            \n",
    "    def predict(self, X,addBias=False):\n",
    "        # initialize the output prediction as the input features -- this\n",
    "        # value will be (forward) propagated through the network to\n",
    "        # obtain the final prediction\n",
    "        p = np.atleast_2d(X)\n",
    "        # insert a column of 1's as the last entry in the feature\n",
    "        # matrix (bias)\n",
    "        if addBias:\n",
    "            p = np.c_[p, np.ones((p.shape[0]))]\n",
    "        # loop over our layers in the network\n",
    "        for layer in np.arange(0, len(self.W)):\n",
    "            # computing the output prediction is simply\n",
    "            # the forward pass\n",
    "            \n",
    "            p = self.sigmoid(np.dot(p, self.W[layer]))\n",
    "        return p\n",
    "    \n",
    "    def calculate_loss(self, X, targets):\n",
    "        # make predictions for the input data points then compute\n",
    "        # the loss\n",
    "        targets = np.atleast_2d(targets)\n",
    "        predictions = self.predict(X)\n",
    "        loss = (1/len(X)) * np.sum((predictions - targets) ** 2)\n",
    "        return loss"
   ]
  },
  {
   "cell_type": "code",
   "execution_count": 3,
   "metadata": {},
   "outputs": [
    {
     "name": "stdout",
     "output_type": "stream",
     "text": [
      "<bound method NeuralNetwork.__repr__ of NN architecture: 2-2-1>\n",
      "[Training: ] epoch= 1 , loss= 0.2967096324702274\n",
      "[Training: ] epoch= 100 , loss= 0.24907820262894875\n",
      "[Training: ] epoch= 200 , loss= 0.24818644658376265\n",
      "[Training: ] epoch= 300 , loss= 0.24631112052148618\n",
      "[Training: ] epoch= 400 , loss= 0.24209286900729093\n",
      "[Training: ] epoch= 500 , loss= 0.23218157865454836\n",
      "[Training: ] epoch= 600 , loss= 0.207784032327506\n",
      "[Training: ] epoch= 700 , loss= 0.15808732734278427\n",
      "[Training: ] epoch= 800 , loss= 0.09864504990604053\n",
      "[Training: ] epoch= 900 , loss= 0.05830296325805808\n",
      "[Training: ] epoch= 1000 , loss= 0.03695118837460505\n",
      "[Training: ] epoch= 1100 , loss= 0.02549905684244983\n",
      "[Training: ] epoch= 1200 , loss= 0.01883009094193002\n",
      "[Training: ] epoch= 1300 , loss= 0.01462484271084402\n"
     ]
    }
   ],
   "source": [
    "# construct the XOR dataset\n",
    "X = np.array([[0, 0], [0, 1], [1, 0], [1, 1]])\n",
    "y = np.array([[0], [1], [1], [0]])\n",
    "\n",
    "# define our 2-2-1 neural network and train it\n",
    "nn = NeuralNetwork([2, 2, 1], alpha=0.3)\n",
    "print(nn.__repr__)\n",
    "# fit the Neural Network\n",
    "losses=nn.fit(X,y,1300)"
   ]
  },
  {
   "cell_type": "code",
   "execution_count": 4,
   "metadata": {},
   "outputs": [
    {
     "name": "stdout",
     "output_type": "stream",
     "text": [
      "[[0.10404982]]\n",
      "data= [0 0] , ground-truth= [0] , pred=, [[0.10404982]]  step= 0\n",
      "[[0.88977418]]\n",
      "data= [0 1] , ground-truth= [1] , pred=, [[0.88977418]]  step= 1\n",
      "[[0.85874618]]\n",
      "data= [1 0] , ground-truth= [1] , pred=, [[0.85874618]]  step= 1\n",
      "[[0.12478234]]\n",
      "data= [1 1] , ground-truth= [0] , pred=, [[0.12478234]]  step= 0\n"
     ]
    }
   ],
   "source": [
    "# now that our network is trained, loop over the XOR data points\n",
    "for (x, target) in zip(X, y):\n",
    "    # make a prediction on the data point and display the result\n",
    "    # to our console\n",
    "    pred = nn.predict(x, addBias=True)\n",
    "    print(pred)\n",
    "    step = 1 if pred > 0.5 else 0\n",
    "    print(\"data=\",x,\", ground-truth=\",target,\", pred=,\",pred,\" step=\",step)"
   ]
  },
  {
   "cell_type": "code",
   "execution_count": 5,
   "metadata": {},
   "outputs": [
    {
     "data": {
      "text/plain": [
       "[<matplotlib.lines.Line2D at 0x120ef7c40>]"
      ]
     },
     "execution_count": 5,
     "metadata": {},
     "output_type": "execute_result"
    },
    {
     "data": {
      "image/png": "[encoded data removed]",
      "text/plain": [
       "<Figure size 432x288 with 1 Axes>"
      ]
     },
     "metadata": {
      "needs_background": "light"
     },
     "output_type": "display_data"
    }
   ],
   "source": [
    "# plot the losses as function of training\n",
    "plt.plot(losses)"
   ]
  },
  {
   "cell_type": "markdown",
   "metadata": {},
   "source": [
    " ### Repeat the training with a NN with [2,1] architechture"
   ]
  },
  {
   "cell_type": "code",
   "execution_count": 6,
   "metadata": {},
   "outputs": [
    {
     "name": "stdout",
     "output_type": "stream",
     "text": [
      "<bound method NeuralNetwork.__repr__ of NN architecture: 2-1>\n",
      "[Training: ] epoch= 1 , loss= 0.26887307419680473\n",
      "[Training: ] epoch= 100 , loss= 0.2510370803507993\n",
      "[Training: ] epoch= 200 , loss= 0.2503112499258921\n",
      "[Training: ] epoch= 300 , loss= 0.25018204883831824\n",
      "[Training: ] epoch= 400 , loss= 0.2501510952033792\n",
      "[Training: ] epoch= 500 , loss= 0.2501423390869404\n",
      "[Training: ] epoch= 600 , loss= 0.2501396770381536\n",
      "[Training: ] epoch= 700 , loss= 0.25013884536203423\n",
      "[Training: ] epoch= 800 , loss= 0.25013858293870295\n",
      "[Training: ] epoch= 900 , loss= 0.2501384998307233\n",
      "[Training: ] epoch= 1000 , loss= 0.2501384734738394\n"
     ]
    }
   ],
   "source": [
    "### ENTER YOUR CODE HERE\n",
    "nn = NeuralNetwork([2, 1], alpha=0.3)\n",
    "print(nn.__repr__)\n",
    "# fit the Neural Network\n",
    "losses=nn.fit(X,y,1000)"
   ]
  },
  {
   "cell_type": "code",
   "execution_count": 7,
   "metadata": {},
   "outputs": [
    {
     "name": "stdout",
     "output_type": "stream",
     "text": [
      "data= [0 0] , ground-truth= [0] , pred=, [[0.5095506]]  step= 1\n",
      "data= [0 1] , ground-truth= [1] , pred=, [[0.50000021]]  step= 1\n",
      "data= [1 0] , ground-truth= [1] , pred=, [[0.49045081]]  step= 0\n",
      "data= [1 1] , ground-truth= [0] , pred=, [[0.48090738]]  step= 0\n"
     ]
    }
   ],
   "source": [
    "# now that our network is trained, loop over the XOR data points\n",
    "for (x, target) in zip(X, y):\n",
    "    # make a prediction on the data point and display the result\n",
    "    # to our console\n",
    "    pred = nn.predict(x,addBias=True)\n",
    "    step = 1 if pred > 0.5 else 0\n",
    "    print(\"data=\",x,\", ground-truth=\",target,\", pred=,\",pred,\" step=\",step)"
   ]
  },
  {
   "cell_type": "markdown",
   "metadata": {},
   "source": [
    "### Classification Problem"
   ]
  },
  {
   "cell_type": "code",
   "execution_count": 8,
   "metadata": {},
   "outputs": [],
   "source": [
    "from sklearn.preprocessing import LabelBinarizer\n",
    "from sklearn.model_selection import train_test_split\n",
    "from sklearn.metrics import classification_report\n",
    "from sklearn import datasets"
   ]
  },
  {
   "cell_type": "code",
   "execution_count": 9,
   "metadata": {},
   "outputs": [
    {
     "name": "stdout",
     "output_type": "stream",
     "text": [
      "loading MNIST (sample) dataset...\n",
      "samples: 1797, dim: 64\n"
     ]
    }
   ],
   "source": [
    "# load the MNIST dataset and apply min/max scaling to scale the\n",
    "# pixel intensity values to the range [0, 1] (each image is\n",
    "# represented by an 8 x 8 = 64-dim feature vector)\n",
    "print(\"loading MNIST (sample) dataset...\")\n",
    "digits = datasets.load_digits()\n",
    "data = digits.data.astype(\"float\")\n",
    "data = (data - data.min()) / (data.max() - data.min())\n",
    "print(\"samples: {}, dim: {}\".format(data.shape[0],\n",
    "data.shape[1]))\n",
    "# construct the training and testing splits\n",
    "(trainX, testX, trainY, testY) = train_test_split(data,\n",
    "digits.target, test_size=0.25)\n",
    "# convert the labels from integers to vectors:1 = [0,1,0,0,0,0,0,0,0,0]\n",
    "lb=LabelBinarizer()\n",
    "trainY = LabelBinarizer().fit_transform(trainY)\n",
    "testY = lb.fit_transform(testY)"
   ]
  },
  {
   "cell_type": "code",
   "execution_count": 10,
   "metadata": {},
   "outputs": [
    {
     "data": {
      "image/png": "[encoded data removed]",
      "text/plain": [
       "<Figure size 432x288 with 4 Axes>"
      ]
     },
     "metadata": {
      "needs_background": "light"
     },
     "output_type": "display_data"
    }
   ],
   "source": [
    "for i in range(1,5):\n",
    "    plt.subplot(1,4,i)\n",
    "    plt.imshow(np.array(data[i]).reshape(8,8),cmap='gray')"
   ]
  },
  {
   "cell_type": "code",
   "execution_count": 11,
   "metadata": {},
   "outputs": [
    {
     "name": "stdout",
     "output_type": "stream",
     "text": [
      "training network...\n",
      "NN architecture: 64-32-16-10\n",
      "[Training: ] epoch= 1 , loss= 0.8287351390742036\n",
      "[Training: ] epoch= 100 , loss= 0.002598542396506587\n",
      "[Training: ] epoch= 200 , loss= 0.0023850296012970775\n",
      "[Training: ] epoch= 300 , loss= 0.002326178188734147\n",
      "[Training: ] epoch= 400 , loss= 0.002298782333857776\n",
      "[Training: ] epoch= 500 , loss= 0.002283018074851373\n",
      "[Training: ] epoch= 600 , loss= 0.0022728075508400346\n",
      "[Training: ] epoch= 700 , loss= 0.002265670170866133\n",
      "[Training: ] epoch= 800 , loss= 0.0022604063589579224\n",
      "[Training: ] epoch= 900 , loss= 0.002256365555120021\n",
      "[Training: ] epoch= 1000 , loss= 0.0022531634604590362\n",
      "[Training: ] epoch= 1100 , loss= 0.002250555222949252\n",
      "[Training: ] epoch= 1200 , loss= 0.0022483654736424386\n",
      "[Training: ] epoch= 1300 , loss= 0.002246377327227152\n",
      "[Training: ] epoch= 1400 , loss= 0.0015197488257008734\n",
      "[Training: ] epoch= 1500 , loss= 0.001507311885216258\n",
      "evaluating network...\n",
      "              precision    recall  f1-score   support\n",
      "\n",
      "           0       1.00      1.00      1.00        40\n",
      "           1       0.89      0.95      0.92        43\n",
      "           2       1.00      0.98      0.99        50\n",
      "           3       1.00      1.00      1.00        46\n",
      "           4       1.00      0.97      0.99        40\n",
      "           5       1.00      0.94      0.97        49\n",
      "           6       1.00      1.00      1.00        36\n",
      "           7       1.00      0.96      0.98        49\n",
      "           8       0.92      0.92      0.92        51\n",
      "           9       0.90      0.98      0.94        46\n",
      "\n",
      "    accuracy                           0.97       450\n",
      "   macro avg       0.97      0.97      0.97       450\n",
      "weighted avg       0.97      0.97      0.97       450\n",
      "\n"
     ]
    }
   ],
   "source": [
    "# train the network\n",
    "print(\"training network...\")\n",
    "#create a network object with two hidden layer h1 = 32 units and h2 = 16 units\n",
    "# ENTER YOUR CODE HERE\n",
    "nn = NeuralNetwork([64,32,16, 10], alpha=0.5) \n",
    "print(\"{}\".format(nn))\n",
    "losses2 = nn.fit(trainX, trainY, epochs=1500)\n",
    "# evaluate the network\n",
    "print(\"evaluating network...\")\n",
    "predictions = nn.predict(testX,addBias=True)\n",
    "predictions = predictions.argmax(axis=1)\n",
    "print(classification_report(testY.argmax(axis=1), predictions))"
   ]
  },
  {
   "cell_type": "code",
   "execution_count": 12,
   "metadata": {},
   "outputs": [],
   "source": [
    "testY=lb.inverse_transform(testY)"
   ]
  },
  {
   "cell_type": "code",
   "execution_count": 13,
   "metadata": {},
   "outputs": [
    {
     "data": {
      "text/plain": [
       "<matplotlib.collections.PathCollection at 0x131de46d0>"
      ]
     },
     "execution_count": 13,
     "metadata": {},
     "output_type": "execute_result"
    },
    {
     "data": {
      "image/png": "[encoded data removed]",
      "text/plain": [
       "<Figure size 432x288 with 1 Axes>"
      ]
     },
     "metadata": {
      "needs_background": "light"
     },
     "output_type": "display_data"
    }
   ],
   "source": [
    "\n",
    "plt.scatter(np.arange(len(predictions)),testY-predictions)"
   ]
  },
  {
   "cell_type": "code",
   "execution_count": 14,
   "metadata": {},
   "outputs": [
    {
     "data": {
      "text/plain": [
       "[<matplotlib.lines.Line2D at 0x131e84c40>]"
      ]
     },
     "execution_count": 14,
     "metadata": {},
     "output_type": "execute_result"
    },
    {
     "data": {
      "image/png": "[encoded data removed]",
      "text/plain": [
       "<Figure size 432x288 with 1 Axes>"
      ]
     },
     "metadata": {
      "needs_background": "light"
     },
     "output_type": "display_data"
    }
   ],
   "source": [
    "plt.plot(np.concatenate(([0], np.arange(1,1500,100))),losses2)"
   ]
  },
  {
   "cell_type": "code",
   "execution_count": 15,
   "metadata": {},
   "outputs": [
    {
     "data": {
      "image/png": "[encoded data removed]",
      "text/plain": [
       "<Figure size 432x288 with 1 Axes>"
      ]
     },
     "metadata": {
      "needs_background": "light"
     },
     "output_type": "display_data"
    }
   ],
   "source": [
    "import sklearn.datasets\n",
    "#  load a classification dataset from sklearn\n",
    "X, Y = sklearn.datasets.make_moons(200, noise=0.150)\n",
    "plt.scatter(X[:,0], X[:,1], s=42, c=Y, cmap=plt.cm.Set1)\n",
    "y = Y.reshape(-1,1)"
   ]
  },
  {
   "cell_type": "code",
   "execution_count": 16,
   "metadata": {},
   "outputs": [
    {
     "data": {
      "text/plain": [
       "(200, 2)"
      ]
     },
     "execution_count": 16,
     "metadata": {},
     "output_type": "execute_result"
    }
   ],
   "source": [
    "y=np.concatenate((y,np.logical_not(y).astype('int')),axis=1)\n",
    "y.shape"
   ]
  },
  {
   "cell_type": "code",
   "execution_count": 17,
   "metadata": {},
   "outputs": [
    {
     "name": "stdout",
     "output_type": "stream",
     "text": [
      "[Training: ] epoch= 1 , loss= 0.5666082484420744\n",
      "[Training: ] epoch= 100 , loss= 0.2166447477655566\n",
      "[Training: ] epoch= 200 , loss= 0.18859013769706492\n",
      "[Training: ] epoch= 300 , loss= 0.18459875061721448\n",
      "[Training: ] epoch= 400 , loss= 0.18169542110567932\n",
      "[Training: ] epoch= 500 , loss= 0.17616079827347428\n",
      "[Training: ] epoch= 600 , loss= 0.16823652165248296\n",
      "[Training: ] epoch= 700 , loss= 0.15823393193817392\n",
      "[Training: ] epoch= 800 , loss= 0.14702497449581833\n",
      "[Training: ] epoch= 900 , loss= 0.13526544213795436\n",
      "[Training: ] epoch= 1000 , loss= 0.12281620750502636\n",
      "[Training: ] epoch= 1100 , loss= 0.1088846333366144\n",
      "[Training: ] epoch= 1200 , loss= 0.09397054826493614\n",
      "[Training: ] epoch= 1300 , loss= 0.08046439245659329\n",
      "[Training: ] epoch= 1400 , loss= 0.06945499558262237\n",
      "[Training: ] epoch= 1500 , loss= 0.06074098037971679\n",
      "[Training: ] epoch= 1600 , loss= 0.05388064011594754\n",
      "[Training: ] epoch= 1700 , loss= 0.04846511727066614\n",
      "[Training: ] epoch= 1800 , loss= 0.04415796535696398\n",
      "[Training: ] epoch= 1900 , loss= 0.04069611223691608\n",
      "[Training: ] epoch= 2000 , loss= 0.037879776513467606\n",
      "[Training: ] epoch= 2100 , loss= 0.035559365740610575\n",
      "[Training: ] epoch= 2200 , loss= 0.03362332419937789\n",
      "[Training: ] epoch= 2300 , loss= 0.03198830743809839\n",
      "[Training: ] epoch= 2400 , loss= 0.030591730391949953\n",
      "[Training: ] epoch= 2500 , loss= 0.029386272601683184\n",
      "[Training: ] epoch= 2600 , loss= 0.028335865530824424\n",
      "[Training: ] epoch= 2700 , loss= 0.02741276483957691\n",
      "[Training: ] epoch= 2800 , loss= 0.026595409841934117\n",
      "[Training: ] epoch= 2900 , loss= 0.025866855546879536\n",
      "[Training: ] epoch= 3000 , loss= 0.025213623343309677\n",
      "[Training: ] epoch= 3100 , loss= 0.02462485855679611\n",
      "[Training: ] epoch= 3200 , loss= 0.024091712563629516\n",
      "[Training: ] epoch= 3300 , loss= 0.023606888432645322\n",
      "[Training: ] epoch= 3400 , loss= 0.023164304987347988\n",
      "[Training: ] epoch= 3500 , loss= 0.02275884628467483\n",
      "[Training: ] epoch= 3600 , loss= 0.022386172666305555\n",
      "[Training: ] epoch= 3700 , loss= 0.02204257635070386\n",
      "[Training: ] epoch= 3800 , loss= 0.02172486949253195\n",
      "[Training: ] epoch= 3900 , loss= 0.021430296173800354\n",
      "[Training: ] epoch= 4000 , loss= 0.021156462276777033\n",
      "[Training: ] epoch= 4100 , loss= 0.02090127891878726\n",
      "[Training: ] epoch= 4200 , loss= 0.020662916329415193\n",
      "[Training: ] epoch= 4300 , loss= 0.02043976588562708\n",
      "[Training: ] epoch= 4400 , loss= 0.020230408605669364\n",
      "[Training: ] epoch= 4500 , loss= 0.020033588817717166\n",
      "[Training: ] epoch= 4600 , loss= 0.019848192017940407\n",
      "[Training: ] epoch= 4700 , loss= 0.01967322615102586\n",
      "[Training: ] epoch= 4800 , loss= 0.019507805708482075\n",
      "[Training: ] epoch= 4900 , loss= 0.01935113816260267\n",
      "[Training: ] epoch= 5000 , loss= 0.019202512347880122\n",
      "[Training: ] epoch= 5100 , loss= 0.019061288474620183\n",
      "[Training: ] epoch= 5200 , loss= 0.01892688951686679\n",
      "[Training: ] epoch= 5300 , loss= 0.01879879376231852\n",
      "[Training: ] epoch= 5400 , loss= 0.01867652834846393\n",
      "[Training: ] epoch= 5500 , loss= 0.018559663638715224\n",
      "[Training: ] epoch= 5600 , loss= 0.01844780831638053\n",
      "[Training: ] epoch= 5700 , loss= 0.018340605094048147\n",
      "[Training: ] epoch= 5800 , loss= 0.01823772695221604\n",
      "[Training: ] epoch= 5900 , loss= 0.018138873834503137\n",
      "[Training: ] epoch= 6000 , loss= 0.018043769738011247\n",
      "[Training: ] epoch= 6100 , loss= 0.017952160146836506\n",
      "[Training: ] epoch= 6200 , loss= 0.017863809764656464\n",
      "[Training: ] epoch= 6300 , loss= 0.0177785005090177\n",
      "[Training: ] epoch= 6400 , loss= 0.017696029735641428\n",
      "[Training: ] epoch= 6500 , loss= 0.0176162086659045\n",
      "[Training: ] epoch= 6600 , loss= 0.0175388609947766\n",
      "[Training: ] epoch= 6700 , loss= 0.01746382166001373\n",
      "[Training: ] epoch= 6800 , loss= 0.01739093575639097\n",
      "[Training: ] epoch= 6900 , loss= 0.017320057581269543\n",
      "[Training: ] epoch= 7000 , loss= 0.017251049799874258\n",
      "[Training: ] epoch= 7100 , loss= 0.017183782720341025\n",
      "[Training: ] epoch= 7200 , loss= 0.017118133669893558\n",
      "[Training: ] epoch= 7300 , loss= 0.017053986464451713\n",
      "[Training: ] epoch= 7400 , loss= 0.016991230964563352\n",
      "[Training: ] epoch= 7500 , loss= 0.016929762710824248\n",
      "[Training: ] epoch= 7600 , loss= 0.016869482631920826\n",
      "[Training: ] epoch= 7700 , loss= 0.01681029681817134\n",
      "[Training: ] epoch= 7800 , loss= 0.01675211635298735\n",
      "[Training: ] epoch= 7900 , loss= 0.016694857194138244\n",
      "[Training: ] epoch= 8000 , loss= 0.016638440096165864\n",
      "[Training: ] epoch= 8100 , loss= 0.016582790564867077\n",
      "[Training: ] epoch= 8200 , loss= 0.01652783883456006\n",
      "[Training: ] epoch= 8300 , loss= 0.016473519858938565\n",
      "[Training: ] epoch= 8400 , loss= 0.01641977330678757\n",
      "[Training: ] epoch= 8500 , loss= 0.01636654355465965\n",
      "[Training: ] epoch= 8600 , loss= 0.016313779669796635\n",
      "[Training: ] epoch= 8700 , loss= 0.01626143537800597\n",
      "[Training: ] epoch= 8800 , loss= 0.016209469012767354\n",
      "[Training: ] epoch= 8900 , loss= 0.016157843443400814\n",
      "[Training: ] epoch= 9000 , loss= 0.016106525981525364\n",
      "[Training: ] epoch= 9100 , loss= 0.016055488266186385\n",
      "[Training: ] epoch= 9200 , loss= 0.016004706128838874\n",
      "[Training: ] epoch= 9300 , loss= 0.0159541594398557\n",
      "[Training: ] epoch= 9400 , loss= 0.0159038319383931\n",
      "[Training: ] epoch= 9500 , loss= 0.015853711047392065\n",
      "[Training: ] epoch= 9600 , loss= 0.015803787675302765\n",
      "[Training: ] epoch= 9700 , loss= 0.01575405600588313\n",
      "[Training: ] epoch= 9800 , loss= 0.015704513277233517\n",
      "[Training: ] epoch= 9900 , loss= 0.015655159551122712\n",
      "[Training: ] epoch= 10000 , loss= 0.01560599747367164\n"
     ]
    }
   ],
   "source": [
    "nn = NeuralNetwork([2,3,2], alpha=0.01)\n",
    "losses3 = nn.fit(X, y, epochs=10000)"
   ]
  },
  {
   "cell_type": "code",
   "execution_count": 18,
   "metadata": {},
   "outputs": [
    {
     "name": "stdout",
     "output_type": "stream",
     "text": [
      "[Training: ] epoch= 1 , loss= 0.483909273567226\n",
      "[Training: ] epoch= 100 , loss= 0.183956271034073\n",
      "[Training: ] epoch= 200 , loss= 0.18349345872015108\n",
      "[Training: ] epoch= 300 , loss= 0.1831103110828836\n",
      "[Training: ] epoch= 400 , loss= 0.18265438897065717\n",
      "[Training: ] epoch= 500 , loss= 0.18209441441351026\n",
      "[Training: ] epoch= 600 , loss= 0.1814452663285677\n",
      "[Training: ] epoch= 700 , loss= 0.17832248757780875\n",
      "[Training: ] epoch= 800 , loss= 0.15102016182288014\n",
      "[Training: ] epoch= 900 , loss= 0.03975614028582969\n",
      "[Training: ] epoch= 1000 , loss= 0.025602989507895264\n",
      "[Training: ] epoch= 1100 , loss= 0.021710662807512243\n",
      "[Training: ] epoch= 1200 , loss= 0.01980605058931872\n",
      "[Training: ] epoch= 1300 , loss= 0.018644144582059038\n",
      "[Training: ] epoch= 1400 , loss= 0.01784295422052548\n",
      "[Training: ] epoch= 1500 , loss= 0.01724487434046579\n",
      "[Training: ] epoch= 1600 , loss= 0.016773090204003856\n",
      "[Training: ] epoch= 1700 , loss= 0.01638580048335776\n",
      "[Training: ] epoch= 1800 , loss= 0.016058368390354353\n",
      "[Training: ] epoch= 1900 , loss= 0.015775345344214695\n",
      "[Training: ] epoch= 2000 , loss= 0.015526535867923817\n",
      "[Training: ] epoch= 2100 , loss= 0.015304907872825742\n",
      "[Training: ] epoch= 2200 , loss= 0.015105419189197593\n",
      "[Training: ] epoch= 2300 , loss= 0.014924328923224147\n",
      "[Training: ] epoch= 2400 , loss= 0.014758778016138676\n",
      "[Training: ] epoch= 2500 , loss= 0.014606525003280586\n",
      "[Training: ] epoch= 2600 , loss= 0.014465774128356527\n",
      "[Training: ] epoch= 2700 , loss= 0.014335060046118208\n",
      "[Training: ] epoch= 2800 , loss= 0.014213168204934757\n",
      "[Training: ] epoch= 2900 , loss= 0.014099078374950091\n",
      "[Training: ] epoch= 3000 , loss= 0.013991923614528903\n",
      "[Training: ] epoch= 3100 , loss= 0.013890959811088819\n",
      "[Training: ] epoch= 3200 , loss= 0.013795542645701549\n",
      "[Training: ] epoch= 3300 , loss= 0.013705109888119632\n",
      "[Training: ] epoch= 3400 , loss= 0.013619167597496958\n",
      "[Training: ] epoch= 3500 , loss= 0.013537279237220888\n",
      "[Training: ] epoch= 3600 , loss= 0.013459056999401095\n",
      "[Training: ] epoch= 3700 , loss= 0.013384154828960437\n",
      "[Training: ] epoch= 3800 , loss= 0.013312262771434548\n",
      "[Training: ] epoch= 3900 , loss= 0.01324310236278261\n",
      "[Training: ] epoch= 4000 , loss= 0.013176422846681276\n",
      "[Training: ] epoch= 4100 , loss= 0.013111998053370296\n",
      "[Training: ] epoch= 4200 , loss= 0.013049623809774985\n",
      "[Training: ] epoch= 4300 , loss= 0.012989115777178553\n",
      "[Training: ] epoch= 4400 , loss= 0.012930307632801785\n",
      "[Training: ] epoch= 4500 , loss= 0.01287304952711895\n",
      "[Training: ] epoch= 4600 , loss= 0.012817206760907012\n",
      "[Training: ] epoch= 4700 , loss= 0.012762658635811691\n",
      "[Training: ] epoch= 4800 , loss= 0.012709297440273631\n",
      "[Training: ] epoch= 4900 , loss= 0.01265702753944151\n",
      "[Training: ] epoch= 5000 , loss= 0.012605764543519306\n",
      "[Training: ] epoch= 5100 , loss= 0.012555434534053958\n",
      "[Training: ] epoch= 5200 , loss= 0.012505973332103116\n",
      "[Training: ] epoch= 5300 , loss= 0.012457325796102914\n",
      "[Training: ] epoch= 5400 , loss= 0.012409445140643377\n",
      "[Training: ] epoch= 5500 , loss= 0.012362292270274293\n",
      "[Training: ] epoch= 5600 , loss= 0.012315835124929387\n",
      "[Training: ] epoch= 5700 , loss= 0.012270048035602957\n",
      "[Training: ] epoch= 5800 , loss= 0.012224911090545836\n",
      "[Training: ] epoch= 5900 , loss= 0.012180409513511334\n",
      "[Training: ] epoch= 6000 , loss= 0.01213653305649208\n",
      "[Training: ] epoch= 6100 , loss= 0.012093275409994417\n",
      "[Training: ] epoch= 6200 , loss= 0.012050633634223274\n",
      "[Training: ] epoch= 6300 , loss= 0.012008607614647494\n",
      "[Training: ] epoch= 6400 , loss= 0.011967199545309082\n",
      "[Training: ] epoch= 6500 , loss= 0.0119264134429791\n",
      "[Training: ] epoch= 6600 , loss= 0.011886254694871845\n",
      "[Training: ] epoch= 6700 , loss= 0.011846729642148017\n",
      "[Training: ] epoch= 6800 , loss= 0.01180784520089093\n",
      "[Training: ] epoch= 6900 , loss= 0.011769608521656913\n",
      "[Training: ] epoch= 7000 , loss= 0.011732026688106923\n",
      "[Training: ] epoch= 7100 , loss= 0.011695106454637193\n",
      "[Training: ] epoch= 7200 , loss= 0.011658854022369774\n",
      "[Training: ] epoch= 7300 , loss= 0.011623274852344273\n",
      "[Training: ] epoch= 7400 , loss= 0.011588373514291065\n",
      "[Training: ] epoch= 7500 , loss= 0.011554153568969293\n",
      "[Training: ] epoch= 7600 , loss= 0.011520617481726066\n",
      "[Training: ] epoch= 7700 , loss= 0.011487766564682447\n",
      "[Training: ] epoch= 7800 , loss= 0.01145560094477634\n",
      "[Training: ] epoch= 7900 , loss= 0.011424119554789057\n",
      "[Training: ] epoch= 8000 , loss= 0.011393320144447834\n",
      "[Training: ] epoch= 8100 , loss= 0.011363199308727643\n",
      "[Training: ] epoch= 8200 , loss= 0.011333752530557737\n",
      "[Training: ] epoch= 8300 , loss= 0.011304974235270326\n",
      "[Training: ] epoch= 8400 , loss= 0.011276857854294718\n",
      "[Training: ] epoch= 8500 , loss= 0.011249395895798845\n",
      "[Training: ] epoch= 8600 , loss= 0.011222580020192184\n",
      "[Training: ] epoch= 8700 , loss= 0.011196401118633945\n",
      "[Training: ] epoch= 8800 , loss= 0.01117084939291646\n",
      "[Training: ] epoch= 8900 , loss= 0.011145914435325201\n",
      "[Training: ] epoch= 9000 , loss= 0.011121585307294022\n",
      "[Training: ] epoch= 9100 , loss= 0.011097850615882674\n",
      "[Training: ] epoch= 9200 , loss= 0.01107469858729649\n",
      "[Training: ] epoch= 9300 , loss= 0.011052117136844076\n",
      "[Training: ] epoch= 9400 , loss= 0.011030093934886851\n",
      "[Training: ] epoch= 9500 , loss= 0.011008616468471509\n",
      "[Training: ] epoch= 9600 , loss= 0.010987672098459229\n",
      "[Training: ] epoch= 9700 , loss= 0.010967248112065722\n",
      "[Training: ] epoch= 9800 , loss= 0.010947331770813213\n",
      "[Training: ] epoch= 9900 , loss= 0.010927910353966126\n",
      "[Training: ] epoch= 10000 , loss= 0.010908971197576665\n"
     ]
    }
   ],
   "source": [
    "nn = NeuralNetwork([2,3,2], alpha=0.1)\n",
    "losses3 = nn.fit(X, y, epochs=10000)"
   ]
  },
  {
   "cell_type": "code",
   "execution_count": 19,
   "metadata": {},
   "outputs": [
    {
     "data": {
      "text/plain": [
       "<matplotlib.collections.PathCollection at 0x131cda4f0>"
      ]
     },
     "execution_count": 19,
     "metadata": {},
     "output_type": "execute_result"
    },
    {
     "data": {
      "image/png": "[encoded data removed]",
      "text/plain": [
       "<Figure size 432x288 with 1 Axes>"
      ]
     },
     "metadata": {
      "needs_background": "light"
     },
     "output_type": "display_data"
    }
   ],
   "source": [
    "# Set min and max values and give it some padding\n",
    "x_min, x_max = X[:, 0].min() - .5, X[:, 0].max() + .5\n",
    "y_min, y_max = X[:, 1].min() - .5, X[:, 1].max() + .5\n",
    "h = 0.01\n",
    "# Generate a grid of points with distance h between them\n",
    "xx, yy = np.meshgrid(np.arange(x_min, x_max, h), np.arange(y_min, y_max, h))\n",
    "# Predict the function value for the whole gid\n",
    "Z = nn.predict(np.c_[xx.ravel(), yy.ravel()],addBias=True)\n",
    "\n",
    "# Plot the contour and training examples\n",
    "plt.contourf(xx, yy, Z[:,1].reshape(xx.shape), cmap=plt.cm.Set1, alpha=0.2)\n",
    "plt.scatter(X[:, 0], X[:, 1], c=Y, cmap=plt.cm.Set1)"
   ]
  },
  {
   "cell_type": "markdown",
   "metadata": {},
   "source": [
    "### try different NN architecutres and see how performance chages"
   ]
  },
  {
   "cell_type": "markdown",
   "metadata": {},
   "source": [
    "### Regression Problem"
   ]
  },
  {
   "cell_type": "code",
   "execution_count": 20,
   "metadata": {},
   "outputs": [],
   "source": [
    "X = np.random.uniform(-1, 1, size=1000)\n",
    "\n",
    "y= np.power(X,2)+ np.random.normal(0, 1, size=X.shape[0]) * 0.2\n",
    "X = X.reshape(-1,1)\n",
    "y = y.reshape(-1,1)"
   ]
  },
  {
   "cell_type": "code",
   "execution_count": 21,
   "metadata": {},
   "outputs": [
    {
     "data": {
      "text/plain": [
       "<matplotlib.collections.PathCollection at 0x131d79d30>"
      ]
     },
     "execution_count": 21,
     "metadata": {},
     "output_type": "execute_result"
    },
    {
     "data": {
      "image/png": "[encoded data removed]",
      "text/plain": [
       "<Figure size 432x288 with 1 Axes>"
      ]
     },
     "metadata": {
      "needs_background": "light"
     },
     "output_type": "display_data"
    }
   ],
   "source": [
    "plt.scatter(X,y)"
   ]
  },
  {
   "cell_type": "code",
   "execution_count": 22,
   "metadata": {},
   "outputs": [
    {
     "name": "stdout",
     "output_type": "stream",
     "text": [
      "[Training: ] epoch= 1 , loss= 0.13807104709458282\n",
      "[Training: ] epoch= 100 , loss= 0.12331414645717453\n",
      "[Training: ] epoch= 200 , loss= 0.10590445901707302\n",
      "[Training: ] epoch= 300 , loss= 0.049800030342995516\n",
      "[Training: ] epoch= 400 , loss= 0.0407645853021048\n",
      "[Training: ] epoch= 500 , loss= 0.0395859888271954\n",
      "[Training: ] epoch= 600 , loss= 0.03934286212834735\n",
      "[Training: ] epoch= 700 , loss= 0.03926399465006418\n",
      "[Training: ] epoch= 800 , loss= 0.03922256697549518\n",
      "[Training: ] epoch= 900 , loss= 0.03919235813459301\n",
      "[Training: ] epoch= 1000 , loss= 0.03916676288968229\n",
      "[Training: ] epoch= 1100 , loss= 0.03914372746016721\n",
      "[Training: ] epoch= 1200 , loss= 0.03912246455496386\n",
      "[Training: ] epoch= 1300 , loss= 0.03910260434092139\n",
      "[Training: ] epoch= 1400 , loss= 0.03908393461150436\n",
      "[Training: ] epoch= 1500 , loss= 0.03906631020856011\n",
      "[Training: ] epoch= 1600 , loss= 0.039049618594828785\n",
      "[Training: ] epoch= 1700 , loss= 0.03903376589417671\n",
      "[Training: ] epoch= 1800 , loss= 0.039018670810775535\n",
      "[Training: ] epoch= 1900 , loss= 0.03900426168724018\n",
      "[Training: ] epoch= 2000 , loss= 0.03899047485512975\n",
      "[Training: ] epoch= 2100 , loss= 0.038977253545618096\n",
      "[Training: ] epoch= 2200 , loss= 0.03896454706632013\n",
      "[Training: ] epoch= 2300 , loss= 0.03895231012382924\n",
      "[Training: ] epoch= 2400 , loss= 0.03894050224031532\n",
      "[Training: ] epoch= 2500 , loss= 0.03892908723981637\n",
      "[Training: ] epoch= 2600 , loss= 0.03891803279083096\n",
      "[Training: ] epoch= 2700 , loss= 0.03890730999648633\n",
      "[Training: ] epoch= 2800 , loss= 0.03889689302583236\n",
      "[Training: ] epoch= 2900 , loss= 0.038886758781180364\n",
      "[Training: ] epoch= 3000 , loss= 0.03887688659740199\n",
      "[Training: ] epoch= 3100 , loss= 0.03886725796989636\n",
      "[Training: ] epoch= 3200 , loss= 0.03885785630857228\n",
      "[Training: ] epoch= 3300 , loss= 0.038848666715685355\n",
      "[Training: ] epoch= 3400 , loss= 0.03883967578572771\n",
      "[Training: ] epoch= 3500 , loss= 0.03883087142580673\n",
      "[Training: ] epoch= 3600 , loss= 0.03882224269509122\n",
      "[Training: ] epoch= 3700 , loss= 0.038813779661973406\n",
      "[Training: ] epoch= 3800 , loss= 0.03880547327762274\n",
      "[Training: ] epoch= 3900 , loss= 0.03879731526461057\n",
      "[Training: ] epoch= 4000 , loss= 0.03878929801928712\n",
      "[Training: ] epoch= 4100 , loss= 0.038781414526601714\n",
      "[Training: ] epoch= 4200 , loss= 0.03877365828608497\n",
      "[Training: ] epoch= 4300 , loss= 0.03876602324775702\n",
      "[Training: ] epoch= 4400 , loss= 0.03875850375679195\n",
      "[Training: ] epoch= 4500 , loss= 0.03875109450584758\n",
      "[Training: ] epoch= 4600 , loss= 0.03874379049406218\n",
      "[Training: ] epoch= 4700 , loss= 0.03873658699181713\n",
      "[Training: ] epoch= 4800 , loss= 0.03872947951046423\n",
      "[Training: ] epoch= 4900 , loss= 0.03872246377631455\n",
      "[Training: ] epoch= 5000 , loss= 0.03871553570827886\n",
      "[Training: ] epoch= 5100 , loss= 0.0387086913986354\n",
      "[Training: ] epoch= 5200 , loss= 0.038701927096479266\n",
      "[Training: ] epoch= 5300 , loss= 0.038695239193476255\n",
      "[Training: ] epoch= 5400 , loss= 0.038688624211603836\n",
      "[Training: ] epoch= 5500 , loss= 0.03868207879261417\n",
      "[Training: ] epoch= 5600 , loss= 0.03867559968899616\n",
      "[Training: ] epoch= 5700 , loss= 0.03866918375625086\n",
      "[Training: ] epoch= 5800 , loss= 0.03866282794632336\n",
      "[Training: ] epoch= 5900 , loss= 0.03865652930205856\n",
      "[Training: ] epoch= 6000 , loss= 0.038650284952567796\n",
      "[Training: ] epoch= 6100 , loss= 0.03864409210940815\n",
      "[Training: ] epoch= 6200 , loss= 0.03863794806348847\n",
      "[Training: ] epoch= 6300 , loss= 0.038631850182625355\n",
      "[Training: ] epoch= 6400 , loss= 0.03862579590967903\n",
      "[Training: ] epoch= 6500 , loss= 0.038619782761204646\n",
      "[Training: ] epoch= 6600 , loss= 0.03861380832655773\n",
      "[Training: ] epoch= 6700 , loss= 0.03860787026739582\n",
      "[Training: ] epoch= 6800 , loss= 0.03860196631751922\n",
      "[Training: ] epoch= 6900 , loss= 0.03859609428299584\n",
      "[Training: ] epoch= 7000 , loss= 0.03859025204251536\n",
      "[Training: ] epoch= 7100 , loss= 0.03858443754791837\n",
      "[Training: ] epoch= 7200 , loss= 0.038578648824846566\n",
      "[Training: ] epoch= 7300 , loss= 0.03857288397346126\n",
      "[Training: ] epoch= 7400 , loss= 0.03856714116917636\n",
      "[Training: ] epoch= 7500 , loss= 0.03856141866335529\n",
      "[Training: ] epoch= 7600 , loss= 0.038555714783920766\n",
      "[Training: ] epoch= 7700 , loss= 0.038550027935829276\n",
      "[Training: ] epoch= 7800 , loss= 0.038544356601365196\n",
      "[Training: ] epoch= 7900 , loss= 0.038538699340211834\n",
      "[Training: ] epoch= 8000 , loss= 0.03853305478926262\n",
      "[Training: ] epoch= 8100 , loss= 0.03852742166213945\n",
      "[Training: ] epoch= 8200 , loss= 0.03852179874839324\n",
      "[Training: ] epoch= 8300 , loss= 0.03851618491236747\n",
      "[Training: ] epoch= 8400 , loss= 0.03851057909171506\n",
      "[Training: ] epoch= 8500 , loss= 0.03850498029556734\n",
      "[Training: ] epoch= 8600 , loss= 0.03849938760236432\n",
      "[Training: ] epoch= 8700 , loss= 0.03849380015736498\n",
      "[Training: ] epoch= 8800 , loss= 0.03848821716986784\n",
      "[Training: ] epoch= 8900 , loss= 0.038482637910182256\n",
      "[Training: ] epoch= 9000 , loss= 0.03847706170640005\n",
      "[Training: ] epoch= 9100 , loss= 0.03847148794102779\n",
      "[Training: ] epoch= 9200 , loss= 0.03846591604754617\n",
      "[Training: ] epoch= 9300 , loss= 0.038460345506969806\n",
      "[Training: ] epoch= 9400 , loss= 0.038454775844483244\n",
      "[Training: ] epoch= 9500 , loss= 0.03844920662623091\n",
      "[Training: ] epoch= 9600 , loss= 0.038443637456334785\n",
      "[Training: ] epoch= 9700 , loss= 0.03843806797420869\n",
      "[Training: ] epoch= 9800 , loss= 0.038432497852227986\n",
      "[Training: ] epoch= 9900 , loss= 0.03842692679380099\n",
      "[Training: ] epoch= 10000 , loss= 0.038421354531871274\n"
     ]
    }
   ],
   "source": [
    "nn = NeuralNetwork([1, 6,1], alpha=0.01)\n",
    "losses4 = nn.fit(X, y, epochs=10000)"
   ]
  },
  {
   "cell_type": "code",
   "execution_count": 23,
   "metadata": {},
   "outputs": [
    {
     "data": {
      "text/plain": [
       "[<matplotlib.lines.Line2D at 0x131e9ca00>]"
      ]
     },
     "execution_count": 23,
     "metadata": {},
     "output_type": "execute_result"
    },
    {
     "data": {
      "image/png": "[encoded data removed]",
      "text/plain": [
       "<Figure size 432x288 with 1 Axes>"
      ]
     },
     "metadata": {
      "needs_background": "light"
     },
     "output_type": "display_data"
    }
   ],
   "source": [
    "plt.plot(losses4)"
   ]
  },
  {
   "cell_type": "code",
   "execution_count": 24,
   "metadata": {},
   "outputs": [
    {
     "data": {
      "text/plain": [
       "[<matplotlib.lines.Line2D at 0x131eb3220>]"
      ]
     },
     "execution_count": 24,
     "metadata": {},
     "output_type": "execute_result"
    },
    {
     "data": {
      "image/png": "[encoded data removed]",
      "text/plain": [
       "<Figure size 432x288 with 1 Axes>"
      ]
     },
     "metadata": {
      "needs_background": "light"
     },
     "output_type": "display_data"
    }
   ],
   "source": [
    "plt.scatter(X,y)\n",
    "y_hat =  nn.predict(np.sort(X,axis=0),addBias=True)\n",
    "plt.plot(np.sort(X,axis=0),y_hat,c='red')"
   ]
  },
  {
   "cell_type": "code",
   "execution_count": 25,
   "metadata": {},
   "outputs": [
    {
     "data": {
      "text/plain": [
       "(1000, 1)"
      ]
     },
     "execution_count": 25,
     "metadata": {},
     "output_type": "execute_result"
    }
   ],
   "source": [
    "X.shape"
   ]
  },
  {
   "cell_type": "markdown",
   "metadata": {},
   "source": [
    "### try different NN architecutres and see how performance chages \n",
    "### try different learning rates and see if you can improve the results"
   ]
  },
  {
   "cell_type": "markdown",
   "metadata": {},
   "source": [
    "### Change the Neuralnetwrok class such that you use the momentum rule for weights update. retrain the MNIST dataset.  How did the training go? are the losses smaller is the accuracy the same? what does it mean?"
   ]
  },
  {
   "cell_type": "code",
   "execution_count": 26,
   "metadata": {},
   "outputs": [],
   "source": [
    "class NeuralNetwork:\n",
    "    def __init__(self, layers, alpha=0.1, gamma=0.9):\n",
    "    # initialize the list of weights matrices, then store the\n",
    "    # network architecture and learning rate\n",
    "        self.W = []\n",
    "        self.V = []\n",
    "        self.layers = layers\n",
    "        self.alpha = alpha\n",
    "        self.gamma = gamma\n",
    "        # start looping from the index of the first layer but\n",
    "        # stop before we reach the last two layers\n",
    "        for i in np.arange(0, len(layers) - 2):\n",
    "            # randomly initialize a weight matrix connecting the\n",
    "            # number of nodes in each respective layer together,\n",
    "            # adding an extra node for the bias\n",
    "            w = np.random.randn(layers[i] + 1, layers[i + 1] + 1)\n",
    "            v = np.zeros((layers[i]+1,layers[i + 1] + 1))\n",
    "            self.W.append(w / np.sqrt(layers[i]))\n",
    "            self.V.append(v)\n",
    "        # the last two layers are a special case where the input\n",
    "        # connections need a bias term but the output does not\n",
    "        w = np.random.randn(layers[-2] + 1, layers[-1])\n",
    "        v = np.zeros((layers[-2] + 1, layers[-1]))\n",
    "        self.W.append(w / np.sqrt(layers[-2]))\n",
    "        self.V.append(v)\n",
    "    \n",
    "    def __repr__(self):\n",
    "        # construct and return a string that represents the network\n",
    "        # architecture\n",
    "        return \"NN architecture: {}\".format(\n",
    "        \"-\".join(str(l) for l in self.layers))\n",
    "    \n",
    "    def sigmoid(self, x):\n",
    "        # compute and return the sigmoid activation value for a\n",
    "        # given input value\n",
    "        return 1.0 / (1 + np.exp(-x))\n",
    "    \n",
    "    def sigmoid_deriv(self, x):\n",
    "        # compute the derivative of the sigmoid function ASSUMING\n",
    "        # that `x` has already been passed through the `sigmoid`\n",
    "        # function\n",
    "        return x * (1 - x)\n",
    "    \n",
    "    def fit(self, X, y,Xt,yt, epochs=1000, displayUpdate=100):\n",
    "        # insert a column of 1's as the last entry in the feature\n",
    "        # matrix -- this little trick allows us to treat the bias\n",
    "        # as a trainable parameter within the weight matrix\n",
    "        X = np.c_[X, np.ones((X.shape[0]))]\n",
    "        Xt = np.c_[Xt, np.ones((Xt.shape[0]))]\n",
    "        losses = []\n",
    "        # loop over the desired number of epochs\n",
    "        for epoch in np.arange(0, epochs):\n",
    "            # loop over each individual data point and train\n",
    "            # our network on it\n",
    "            for (x, target) in zip(X, y):\n",
    "                self.fit_partial(x, target)\n",
    "                # check to see if we should display a training update\n",
    "            if epoch == 0 or (epoch + 1) % displayUpdate == 0:\n",
    "                loss = self.calculate_loss(X, y)\n",
    "                print(\"[Training: ] epoch=\", epoch+1, \", loss=\",loss)\n",
    "                losses.append(loss) \n",
    "                tp = self.predict (Xt,addBias=False)\n",
    "                tloss = self.calculate_loss(Xt, yt)\n",
    "                print(\"[testing:] test loss\", tloss)\n",
    "        return losses\n",
    "                    \n",
    "    def fit_partial(self, x, y):\n",
    "        # construct our list of output activations for each layer\n",
    "        # as our data point flows through the network; the first\n",
    "        # activation is a special case -- it's just the input\n",
    "        # feature vector itself\n",
    "        A = [np.atleast_2d(x)]\n",
    "        # FEEDFORWARD:\n",
    "        # loop over the layers in the network\n",
    "        for layer in np.arange(0, len(self.W)):\n",
    "            # feedforward the activation at the current layer by\n",
    "            # taking the dot product between the activation and\n",
    "            # the weight matrix -- this is called the \"net input\"\n",
    "            # to the current layer\n",
    "            net = A[layer].dot(self.W[layer])\n",
    "            # computing the \"net output\" is simply applying our\n",
    "            # nonlinear activation function to the net input\n",
    "            out = self.sigmoid(net)\n",
    "            # once we have the net output, add it to our list of\n",
    "            # activations\n",
    "            A.append(out)\n",
    "\n",
    "        # BACKPROPAGATION\n",
    "        # the first phase of backpropagation is to compute the\n",
    "        # difference between our *prediction* (the final output\n",
    "        # activation in the activations list) and the true target\n",
    "        # value\n",
    "        derror = A[-1] - y\n",
    "\n",
    "        # from here, we need to apply the chain rule and build our\n",
    "        # list of deltas `D`; the first entry in the deltas is\n",
    "        # simply the error of the output layer times the derivative\n",
    "        # of our activation function for the output value\n",
    "        D = [derror * self.sigmoid_deriv(A[-1])]\n",
    "        # once you understand the chain rule it becomes super easy\n",
    "        # to implement with a `for` loop -- simply loop over the\n",
    "        # layers in reverse order (ignoring the last two since we\n",
    "        # already have taken them into account)\n",
    "        for layer in np.arange(len(A) - 2, 0, -1):\n",
    "            # the delta for the current layer is equal to the delta\n",
    "            # of the *previous layer* dotted with the weight matrix\n",
    "            # of the current layer, followed by multiplying the delta\n",
    "            # by the derivative of the nonlinear activation function\n",
    "            # for the activations of the current layer\n",
    "            delta = D[-1].dot(self.W[layer].T)\n",
    "            delta = delta * self.sigmoid_deriv(A[layer])\n",
    "            D.append(delta)\n",
    "        # since we looped over our layers in reverse order we need to\n",
    "        # reverse the deltas\n",
    "        D = D[::-1]\n",
    "        # WEIGHT UPDATE PHASE\n",
    "        # loop over the layers\n",
    "        for layer in np.arange(0, len(self.W)):\n",
    "        # update our weights by taking the dot product of the layer\n",
    "        # activations with their respective deltas, then multiplying\n",
    "        # this value by some small learning rate and adding to our\n",
    "        # weight matrix -- this is where the actual \"learning\" takes\n",
    "        # place\n",
    "#         V t = γV t−1 + α∇ W f (W )\n",
    "#         W = W −V t\n",
    "            vt = self.gamma*self.V[layer] + self.alpha * A[layer].T.dot(D[layer])\n",
    "            self.V[layer] = vt\n",
    "            self.W[layer] += -vt\n",
    "            \n",
    "    def predict(self, X,addBias=False):\n",
    "        # initialize the output prediction as the input features -- this\n",
    "        # value will be (forward) propagated through the network to\n",
    "        # obtain the final prediction\n",
    "        p = np.atleast_2d(X)\n",
    "        # insert a column of 1's as the last entry in the feature\n",
    "        # matrix (bias)\n",
    "        if addBias:\n",
    "            p = np.c_[p, np.ones((p.shape[0]))]\n",
    "        # loop over our layers in the network\n",
    "        for layer in np.arange(0, len(self.W)):\n",
    "            # computing the output prediction is simply\n",
    "            # the forward pass\n",
    "            \n",
    "            p = self.sigmoid(np.dot(p, self.W[layer]))\n",
    "        return p\n",
    "    \n",
    "    def calculate_loss(self, X, targets):\n",
    "        # make predictions for the input data points then compute\n",
    "        # the loss\n",
    "        targets = np.atleast_2d(targets)\n",
    "        predictions = self.predict(X)\n",
    "        loss = 0.5 * np.sum((predictions - targets) ** 2)\n",
    "        return loss"
   ]
  },
  {
   "cell_type": "code",
   "execution_count": 27,
   "metadata": {},
   "outputs": [
    {
     "name": "stdout",
     "output_type": "stream",
     "text": [
      "loading MNIST (sample) dataset...\n",
      "samples: 1797, dim: 64\n"
     ]
    }
   ],
   "source": [
    "# load the MNIST dataset and apply min/max scaling to scale the\n",
    "# pixel intensity values to the range [0, 1] (each image is\n",
    "# represented by an 8 x 8 = 64-dim feature vector)\n",
    "print(\"loading MNIST (sample) dataset...\")\n",
    "digits = datasets.load_digits()\n",
    "data = digits.data.astype(\"float\")\n",
    "data = (data - data.min()) / (data.max() - data.min())\n",
    "print(\"samples: {}, dim: {}\".format(data.shape[0],\n",
    "data.shape[1]))\n",
    "# construct the training and testing splits\n",
    "(trainX, testX, trainY, testY) = train_test_split(data,\n",
    "digits.target, test_size=0.25)\n",
    "# convert the labels from integers to vectors:1 = [0,1,0,0,0,0,0,0,0,0]\n",
    "lb=LabelBinarizer()\n",
    "trainY =lb.fit_transform(trainY)\n",
    "testY = lb.transform(testY)"
   ]
  },
  {
   "cell_type": "code",
   "execution_count": 28,
   "metadata": {},
   "outputs": [
    {
     "name": "stdout",
     "output_type": "stream",
     "text": [
      "training network...\n",
      "NN architecture: 64-32-16-10\n",
      "[Training: ] epoch= 1 , loss= 356.4394442427782\n",
      "[testing:] test loss 121.57856899236664\n",
      "[Training: ] epoch= 100 , loss= 0.08901003787659231\n",
      "[testing:] test loss 8.67309228652302\n",
      "[Training: ] epoch= 200 , loss= 0.04081567990426238\n",
      "[testing:] test loss 8.65301255548588\n",
      "[Training: ] epoch= 300 , loss= 0.02636184007465185\n",
      "[testing:] test loss 8.666342302899654\n",
      "[Training: ] epoch= 400 , loss= 0.019390481793193567\n",
      "[testing:] test loss 8.676286918392359\n",
      "[Training: ] epoch= 500 , loss= 0.015300628004109564\n",
      "[testing:] test loss 8.681801916671468\n",
      "[Training: ] epoch= 600 , loss= 0.012617502992153244\n",
      "[testing:] test loss 8.68423785304957\n",
      "[Training: ] epoch= 700 , loss= 0.010724425922453665\n",
      "[testing:] test loss 8.684638247290208\n",
      "[Training: ] epoch= 800 , loss= 0.009318560111573788\n",
      "[testing:] test loss 8.683678084714439\n",
      "[Training: ] epoch= 900 , loss= 0.008234011713136057\n",
      "[testing:] test loss 8.681791066579418\n",
      "[Training: ] epoch= 1000 , loss= 0.007372374615846786\n",
      "[testing:] test loss 8.67926216212482\n",
      "[Training: ] epoch= 1100 , loss= 0.006671621378745169\n",
      "[testing:] test loss 8.676283642750132\n",
      "[Training: ] epoch= 1200 , loss= 0.006090735741110395\n",
      "[testing:] test loss 8.67298848609462\n",
      "[Training: ] epoch= 1300 , loss= 0.005601521828505276\n",
      "[testing:] test loss 8.669470674622675\n",
      "[Training: ] epoch= 1400 , loss= 0.00518396459977756\n",
      "[testing:] test loss 8.665797869730739\n",
      "[Training: ] epoch= 1500 , loss= 0.0048234673738609575\n",
      "[testing:] test loss 8.66201954710994\n",
      "evaluating network...\n",
      "              precision    recall  f1-score   support\n",
      "\n",
      "           0       1.00      1.00      1.00        47\n",
      "           1       0.98      0.98      0.98        43\n",
      "           2       1.00      0.96      0.98        49\n",
      "           3       0.98      0.98      0.98        43\n",
      "           4       0.90      0.95      0.92        37\n",
      "           5       1.00      0.96      0.98        45\n",
      "           6       0.98      0.95      0.96        42\n",
      "           7       0.98      0.98      0.98        50\n",
      "           8       0.95      1.00      0.97        36\n",
      "           9       0.97      0.98      0.97        58\n",
      "\n",
      "    accuracy                           0.97       450\n",
      "   macro avg       0.97      0.97      0.97       450\n",
      "weighted avg       0.97      0.97      0.97       450\n",
      "\n"
     ]
    }
   ],
   "source": [
    "# train the network\n",
    "print(\"training network...\")\n",
    "#create a network object with two hidden layer h1 = 32 units and h2 = 16 units\n",
    "# ENTER YOUR CODE HERE\n",
    "nn = NeuralNetwork([64,32,16, 10], alpha=0.5,gamma=0.5) \n",
    "print(\"{}\".format(nn))\n",
    "losses5 = nn.fit(trainX, trainY,testX, testY, epochs=1500)\n",
    "# evaluate the network\n",
    "print(\"evaluating network...\")\n",
    "predictions2 = nn.predict(testX,addBias=True)\n",
    "predictions2 = predictions2.argmax(axis=1)\n",
    "print(classification_report(testY.argmax(axis=1), predictions2))"
   ]
  },
  {
   "cell_type": "code",
   "execution_count": 29,
   "metadata": {},
   "outputs": [
    {
     "data": {
      "text/plain": [
       "[<matplotlib.lines.Line2D at 0x13204fcd0>]"
      ]
     },
     "execution_count": 29,
     "metadata": {},
     "output_type": "execute_result"
    },
    {
     "data": {
      "image/png": "[encoded data removed]",
      "text/plain": [
       "<Figure size 432x288 with 1 Axes>"
      ]
     },
     "metadata": {
      "needs_background": "light"
     },
     "output_type": "display_data"
    }
   ],
   "source": [
    "plt.plot(losses2[3:6])\n",
    "plt.plot(losses5[3:6])"
   ]
  },
  {
   "cell_type": "code",
   "execution_count": 30,
   "metadata": {},
   "outputs": [
    {
     "data": {
      "text/plain": [
       "[<matplotlib.lines.Line2D at 0x1323b1130>]"
      ]
     },
     "execution_count": 30,
     "metadata": {},
     "output_type": "execute_result"
    },
    {
     "data": {
      "image/png": "[encoded data removed]",
      "text/plain": [
       "<Figure size 432x288 with 1 Axes>"
      ]
     },
     "metadata": {
      "needs_background": "light"
     },
     "output_type": "display_data"
    }
   ],
   "source": [
    "plt.plot(losses2)\n",
    "plt.plot(losses5)"
   ]
  },
  {
   "cell_type": "code",
   "execution_count": 31,
   "metadata": {},
   "outputs": [
    {
     "name": "stdout",
     "output_type": "stream",
     "text": [
      "[Training: ] epoch= 1 , loss= 63.84991627386125\n",
      "[testing:] test loss 63.84991627386125\n",
      "[Training: ] epoch= 100 , loss= 19.77821016917231\n",
      "[testing:] test loss 19.77821016917231\n",
      "[Training: ] epoch= 200 , loss= 19.719812682222187\n",
      "[testing:] test loss 19.719812682222187\n",
      "[Training: ] epoch= 300 , loss= 19.695588032568722\n",
      "[testing:] test loss 19.695588032568722\n",
      "[Training: ] epoch= 400 , loss= 19.68335150173114\n",
      "[testing:] test loss 19.68335150173114\n",
      "[Training: ] epoch= 500 , loss= 19.669690241480858\n",
      "[testing:] test loss 19.669690241480858\n",
      "[Training: ] epoch= 600 , loss= 19.651576839560807\n",
      "[testing:] test loss 19.651576839560807\n",
      "[Training: ] epoch= 700 , loss= 19.631389103023846\n",
      "[testing:] test loss 19.631389103023846\n",
      "[Training: ] epoch= 800 , loss= 19.61098344685868\n",
      "[testing:] test loss 19.61098344685868\n",
      "[Training: ] epoch= 900 , loss= 19.59123072991974\n",
      "[testing:] test loss 19.59123072991974\n",
      "[Training: ] epoch= 1000 , loss= 19.572513859227627\n",
      "[testing:] test loss 19.572513859227627\n",
      "[Training: ] epoch= 1100 , loss= 19.55488834746904\n",
      "[testing:] test loss 19.55488834746904\n",
      "[Training: ] epoch= 1200 , loss= 19.5382510653967\n",
      "[testing:] test loss 19.5382510653967\n",
      "[Training: ] epoch= 1300 , loss= 19.522543702756394\n",
      "[testing:] test loss 19.522543702756394\n",
      "[Training: ] epoch= 1400 , loss= 19.507780301579086\n",
      "[testing:] test loss 19.507780301579086\n",
      "[Training: ] epoch= 1500 , loss= 19.49396488205018\n",
      "[testing:] test loss 19.49396488205018\n",
      "[Training: ] epoch= 1600 , loss= 19.48104517954149\n",
      "[testing:] test loss 19.48104517954149\n",
      "[Training: ] epoch= 1700 , loss= 19.468915693540385\n",
      "[testing:] test loss 19.468915693540385\n",
      "[Training: ] epoch= 1800 , loss= 19.4574320277768\n",
      "[testing:] test loss 19.4574320277768\n",
      "[Training: ] epoch= 1900 , loss= 19.4464160483236\n",
      "[testing:] test loss 19.4464160483236\n",
      "[Training: ] epoch= 2000 , loss= 19.4356444705391\n",
      "[testing:] test loss 19.4356444705391\n",
      "[Training: ] epoch= 2100 , loss= 19.424814127216123\n",
      "[testing:] test loss 19.424814127216123\n",
      "[Training: ] epoch= 2200 , loss= 19.413478137243025\n",
      "[testing:] test loss 19.413478137243025\n",
      "[Training: ] epoch= 2300 , loss= 19.400968799460188\n",
      "[testing:] test loss 19.400968799460188\n",
      "[Training: ] epoch= 2400 , loss= 19.386398190989073\n",
      "[testing:] test loss 19.386398190989073\n",
      "[Training: ] epoch= 2500 , loss= 19.368906546948267\n",
      "[testing:] test loss 19.368906546948267\n",
      "[Training: ] epoch= 2600 , loss= 19.34811859511708\n",
      "[testing:] test loss 19.34811859511708\n",
      "[Training: ] epoch= 2700 , loss= 19.324347697258077\n",
      "[testing:] test loss 19.324347697258077\n",
      "[Training: ] epoch= 2800 , loss= 19.29836200263557\n",
      "[testing:] test loss 19.29836200263557\n",
      "[Training: ] epoch= 2900 , loss= 19.271050595121203\n",
      "[testing:] test loss 19.271050595121203\n",
      "[Training: ] epoch= 3000 , loss= 19.243181034924945\n",
      "[testing:] test loss 19.243181034924945\n",
      "[Training: ] epoch= 3100 , loss= 19.215286751807284\n",
      "[testing:] test loss 19.215286751807284\n",
      "[Training: ] epoch= 3200 , loss= 19.187698078824305\n",
      "[testing:] test loss 19.187698078824305\n",
      "[Training: ] epoch= 3300 , loss= 19.160628949529826\n",
      "[testing:] test loss 19.160628949529826\n",
      "[Training: ] epoch= 3400 , loss= 19.134236499954895\n",
      "[testing:] test loss 19.134236499954895\n",
      "[Training: ] epoch= 3500 , loss= 19.108652815628126\n",
      "[testing:] test loss 19.108652815628126\n",
      "[Training: ] epoch= 3600 , loss= 19.084005686017854\n",
      "[testing:] test loss 19.084005686017854\n",
      "[Training: ] epoch= 3700 , loss= 19.060427848271758\n",
      "[testing:] test loss 19.060427848271758\n",
      "[Training: ] epoch= 3800 , loss= 19.038052414271522\n",
      "[testing:] test loss 19.038052414271522\n",
      "[Training: ] epoch= 3900 , loss= 19.016998964586953\n",
      "[testing:] test loss 19.016998964586953\n",
      "[Training: ] epoch= 4000 , loss= 18.99735780541068\n",
      "[testing:] test loss 18.99735780541068\n",
      "[Training: ] epoch= 4100 , loss= 18.979178538252704\n",
      "[testing:] test loss 18.979178538252704\n",
      "[Training: ] epoch= 4200 , loss= 18.962465890099317\n",
      "[testing:] test loss 18.962465890099317\n",
      "[Training: ] epoch= 4300 , loss= 18.94718262720558\n",
      "[testing:] test loss 18.94718262720558\n",
      "[Training: ] epoch= 4400 , loss= 18.933257420524154\n",
      "[testing:] test loss 18.933257420524154\n",
      "[Training: ] epoch= 4500 , loss= 18.920594968961854\n",
      "[testing:] test loss 18.920594968961854\n",
      "[Training: ] epoch= 4600 , loss= 18.909086118034278\n",
      "[testing:] test loss 18.909086118034278\n",
      "[Training: ] epoch= 4700 , loss= 18.89861655214584\n",
      "[testing:] test loss 18.89861655214584\n",
      "[Training: ] epoch= 4800 , loss= 18.889073447662856\n",
      "[testing:] test loss 18.889073447662856\n",
      "[Training: ] epoch= 4900 , loss= 18.88035004793022\n",
      "[testing:] test loss 18.88035004793022\n",
      "[Training: ] epoch= 5000 , loss= 18.872348436919616\n",
      "[testing:] test loss 18.872348436919616\n",
      "[Training: ] epoch= 5100 , loss= 18.864980906703614\n",
      "[testing:] test loss 18.864980906703614\n",
      "[Training: ] epoch= 5200 , loss= 18.858170313200176\n",
      "[testing:] test loss 18.858170313200176\n",
      "[Training: ] epoch= 5300 , loss= 18.85184975694551\n",
      "[testing:] test loss 18.85184975694551\n",
      "[Training: ] epoch= 5400 , loss= 18.845961850750495\n",
      "[testing:] test loss 18.845961850750495\n",
      "[Training: ] epoch= 5500 , loss= 18.840457764940034\n",
      "[testing:] test loss 18.840457764940034\n",
      "[Training: ] epoch= 5600 , loss= 18.83529618206606\n",
      "[testing:] test loss 18.83529618206606\n",
      "[Training: ] epoch= 5700 , loss= 18.83044224822292\n",
      "[testing:] test loss 18.83044224822292\n",
      "[Training: ] epoch= 5800 , loss= 18.82586657583171\n",
      "[testing:] test loss 18.82586657583171\n",
      "[Training: ] epoch= 5900 , loss= 18.8215443303354\n",
      "[testing:] test loss 18.8215443303354\n",
      "[Training: ] epoch= 6000 , loss= 18.817454417980084\n",
      "[testing:] test loss 18.817454417980084\n",
      "[Training: ] epoch= 6100 , loss= 18.81357878151914\n",
      "[testing:] test loss 18.81357878151914\n",
      "[Training: ] epoch= 6200 , loss= 18.80990180363009\n",
      "[testing:] test loss 18.80990180363009\n",
      "[Training: ] epoch= 6300 , loss= 18.806409812982736\n",
      "[testing:] test loss 18.806409812982736\n",
      "[Training: ] epoch= 6400 , loss= 18.803090684587485\n",
      "[testing:] test loss 18.803090684587485\n",
      "[Training: ] epoch= 6500 , loss= 18.799933523911907\n",
      "[testing:] test loss 18.799933523911907\n",
      "[Training: ] epoch= 6600 , loss= 18.79692842308387\n",
      "[testing:] test loss 18.79692842308387\n",
      "[Training: ] epoch= 6700 , loss= 18.794066277160823\n",
      "[testing:] test loss 18.794066277160823\n",
      "[Training: ] epoch= 6800 , loss= 18.79133864880766\n",
      "[testing:] test loss 18.79133864880766\n",
      "[Training: ] epoch= 6900 , loss= 18.78873767063955\n",
      "[testing:] test loss 18.78873767063955\n",
      "[Training: ] epoch= 7000 , loss= 18.786255975781508\n",
      "[testing:] test loss 18.786255975781508\n",
      "[Training: ] epoch= 7100 , loss= 18.7838866487007\n",
      "[testing:] test loss 18.7838866487007\n",
      "[Training: ] epoch= 7200 , loss= 18.781623189924954\n",
      "[testing:] test loss 18.781623189924954\n",
      "[Training: ] epoch= 7300 , loss= 18.779459489742003\n",
      "[testing:] test loss 18.779459489742003\n",
      "[Training: ] epoch= 7400 , loss= 18.777389807295837\n",
      "[testing:] test loss 18.777389807295837\n",
      "[Training: ] epoch= 7500 , loss= 18.7754087526049\n",
      "[testing:] test loss 18.7754087526049\n",
      "[Training: ] epoch= 7600 , loss= 18.773511269910415\n",
      "[testing:] test loss 18.773511269910415\n",
      "[Training: ] epoch= 7700 , loss= 18.771692621428787\n",
      "[testing:] test loss 18.771692621428787\n",
      "[Training: ] epoch= 7800 , loss= 18.76994837105593\n",
      "[testing:] test loss 18.76994837105593\n",
      "[Training: ] epoch= 7900 , loss= 18.768274367887066\n",
      "[testing:] test loss 18.768274367887066\n",
      "[Training: ] epoch= 8000 , loss= 18.766666729607692\n",
      "[testing:] test loss 18.766666729607692\n",
      "[Training: ] epoch= 8100 , loss= 18.765121825912495\n",
      "[testing:] test loss 18.765121825912495\n",
      "[Training: ] epoch= 8200 , loss= 18.763636262148026\n",
      "[testing:] test loss 18.763636262148026\n",
      "[Training: ] epoch= 8300 , loss= 18.762206863373166\n",
      "[testing:] test loss 18.762206863373166\n",
      "[Training: ] epoch= 8400 , loss= 18.760830659006196\n",
      "[testing:] test loss 18.760830659006196\n",
      "[Training: ] epoch= 8500 , loss= 18.759504868191758\n",
      "[testing:] test loss 18.759504868191758\n",
      "[Training: ] epoch= 8600 , loss= 18.7582268859814\n",
      "[testing:] test loss 18.7582268859814\n",
      "[Training: ] epoch= 8700 , loss= 18.75699427038466\n",
      "[testing:] test loss 18.75699427038466\n",
      "[Training: ] epoch= 8800 , loss= 18.755804730314395\n",
      "[testing:] test loss 18.755804730314395\n",
      "[Training: ] epoch= 8900 , loss= 18.754656114424844\n",
      "[testing:] test loss 18.754656114424844\n",
      "[Training: ] epoch= 9000 , loss= 18.753546400819058\n",
      "[testing:] test loss 18.753546400819058\n"
     ]
    },
    {
     "name": "stdout",
     "output_type": "stream",
     "text": [
      "[Training: ] epoch= 9100 , loss= 18.752473687588715\n",
      "[testing:] test loss 18.752473687588715\n",
      "[Training: ] epoch= 9200 , loss= 18.75143618413836\n",
      "[testing:] test loss 18.75143618413836\n",
      "[Training: ] epoch= 9300 , loss= 18.750432203241353\n",
      "[testing:] test loss 18.750432203241353\n",
      "[Training: ] epoch= 9400 , loss= 18.74946015377135\n",
      "[testing:] test loss 18.74946015377135\n",
      "[Training: ] epoch= 9500 , loss= 18.74851853405317\n",
      "[testing:] test loss 18.74851853405317\n",
      "[Training: ] epoch= 9600 , loss= 18.74760592577845\n",
      "[testing:] test loss 18.74760592577845\n",
      "[Training: ] epoch= 9700 , loss= 18.746720988434117\n",
      "[testing:] test loss 18.746720988434117\n",
      "[Training: ] epoch= 9800 , loss= 18.745862454194892\n",
      "[testing:] test loss 18.745862454194892\n",
      "[Training: ] epoch= 9900 , loss= 18.7450291232351\n",
      "[testing:] test loss 18.7450291232351\n",
      "[Training: ] epoch= 10000 , loss= 18.744219859418873\n",
      "[testing:] test loss 18.744219859418873\n"
     ]
    }
   ],
   "source": [
    "nn = NeuralNetwork([1, 6,1], alpha=0.01)\n",
    "losses6 = nn.fit(X, y, X, y, epochs=10000)"
   ]
  },
  {
   "cell_type": "code",
   "execution_count": 32,
   "metadata": {},
   "outputs": [
    {
     "data": {
      "text/plain": [
       "[<matplotlib.lines.Line2D at 0x131c15f70>]"
      ]
     },
     "execution_count": 32,
     "metadata": {},
     "output_type": "execute_result"
    },
    {
     "data": {
      "image/png": "[encoded data removed]",
      "text/plain": [
       "<Figure size 432x288 with 1 Axes>"
      ]
     },
     "metadata": {
      "needs_background": "light"
     },
     "output_type": "display_data"
    }
   ],
   "source": [
    "plt.scatter(X,y)\n",
    "y_hat =  nn.predict(np.sort(X,axis=0),addBias=True)\n",
    "plt.plot(np.sort(X,axis=0),y_hat,c='red')"
   ]
  },
  {
   "cell_type": "code",
   "execution_count": null,
   "metadata": {},
   "outputs": [],
   "source": []
  },
  {
   "cell_type": "code",
   "execution_count": null,
   "metadata": {},
   "outputs": [],
   "source": []
  },
  {
   "cell_type": "code",
   "execution_count": null,
   "metadata": {},
   "outputs": [],
   "source": []
  },
  {
   "cell_type": "code",
   "execution_count": null,
   "metadata": {},
   "outputs": [],
   "source": []
  }
 ],
 "metadata": {
  "kernelspec": {
   "display_name": "Python 3",
   "language": "python",
   "name": "python3"
  },
  "language_info": {
   "codemirror_mode": {
    "name": "ipython",
    "version": 3
   },
   "file_extension": ".py",
   "mimetype": "text/x-python",
   "name": "python",
   "nbconvert_exporter": "python",
   "pygments_lexer": "ipython3",
   "version": "3.8.10"
  },
  "latex_envs": {
   "LaTeX_envs_menu_present": true,
   "autoclose": false,
   "autocomplete": true,
   "bibliofile": "biblio.bib",
   "cite_by": "apalike",
   "current_citInitial": 1,
   "eqLabelWithNumbers": true,
   "eqNumInitial": 1,
   "hotkeys": {
    "equation": "Ctrl-E",
    "itemize": "Ctrl-I"
   },
   "labels_anchors": false,
   "latex_user_defs": false,
   "report_style_numbering": false,
   "user_envs_cfg": false
  }
 },
 "nbformat": 4,
 "nbformat_minor": 2
}
